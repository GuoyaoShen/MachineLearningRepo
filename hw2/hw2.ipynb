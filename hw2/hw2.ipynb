{
  "nbformat": 4,
  "nbformat_minor": 0,
  "metadata": {
    "kernelspec": {
      "display_name": "Python 3",
      "language": "python",
      "name": "python3"
    },
    "language_info": {
      "codemirror_mode": {
        "name": "ipython",
        "version": 3
      },
      "file_extension": ".py",
      "mimetype": "text/x-python",
      "name": "python",
      "nbconvert_exporter": "python",
      "pygments_lexer": "ipython3",
      "version": "3.5.1+"
    },
    "colab": {
      "name": "hw2.ipynb",
      "provenance": [],
      "collapsed_sections": []
    }
  },
  "cells": [
    {
      "cell_type": "markdown",
      "metadata": {
        "id": "esB_IsP6tXlJ",
        "colab_type": "text"
      },
      "source": [
        "# Homework 2: Coding\n",
        "\n",
        "**Due Monday September 23rd, 11:59pm.**\n",
        "\n",
        "**This is an individual assignment.**\n",
        "\n",
        "**Submit hw2.py file to Gradescope (you may submit as many times as you'd like before the deadline).**"
      ]
    },
    {
      "cell_type": "markdown",
      "metadata": {
        "id": "k7A8_5bKoB06",
        "colab_type": "text"
      },
      "source": [
        "### Imports and Data"
      ]
    },
    {
      "cell_type": "code",
      "metadata": {
        "id": "NexR8Vb2oB0-",
        "colab_type": "code",
        "colab": {}
      },
      "source": [
        "\"\"\"\n",
        "Import required libraries.\n",
        "\n",
        "DON'T comment out these imports when submitting your final hw2.py file.\n",
        "\"\"\"\n",
        "import numpy as np\n",
        "import pandas as pd\n",
        "import time\n",
        "import matplotlib.pyplot as plt"
      ],
      "execution_count": 0,
      "outputs": []
    },
    {
      "cell_type": "code",
      "metadata": {
        "id": "1zjWYTWxb1N0",
        "colab_type": "code",
        "outputId": "cac1a529-2000-4d66-c244-2d4f584fa1bf",
        "colab": {
          "resources": {
            "http://localhost:8080/nbextensions/google.colab/files.js": {
              "data": "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",
              "ok": true,
              "headers": [
                [
                  "content-type",
                  "application/javascript"
                ]
              ],
              "status": 200,
              "status_text": ""
            }
          },
          "base_uri": "https://localhost:8080/",
          "height": 1000
        }
      },
      "source": [
        "\"\"\"\n",
        "FOR COLAB USERS ONLY\n",
        "\n",
        "Run the following code to upload and unzip the data into the Colab environment.\n",
        "\n",
        "Please comment out *everything* in this cell (including the import) when submitting your .py file.\n",
        "\"\"\"\n",
        "from google.colab import files\n",
        "uploaded = files.upload()\n",
        "! unzip hw2_data.zip"
      ],
      "execution_count": 4,
      "outputs": [
        {
          "output_type": "display_data",
          "data": {
            "text/html": [
              "\n",
              "     <input type=\"file\" id=\"files-5de76474-471f-4a14-a121-385fd58c46d2\" name=\"files[]\" multiple disabled />\n",
              "     <output id=\"result-5de76474-471f-4a14-a121-385fd58c46d2\">\n",
              "      Upload widget is only available when the cell has been executed in the\n",
              "      current browser session. Please rerun this cell to enable.\n",
              "      </output>\n",
              "      <script src=\"/nbextensions/google.colab/files.js\"></script> "
            ],
            "text/plain": [
              "<IPython.core.display.HTML object>"
            ]
          },
          "metadata": {
            "tags": []
          }
        },
        {
          "output_type": "stream",
          "text": [
            "Saving hw2_data.zip to hw2_data.zip\n",
            "Archive:  hw2_data.zip\n",
            "   creating: hw2_data/Data-set-1/\n",
            "   creating: hw2_data/Data-set-1/Train-subsets/\n",
            "  inflating: hw2_data/Data-set-1/Train-subsets/X_train_10_.txt  \n",
            "  inflating: hw2_data/Data-set-1/Train-subsets/X_train_100_.txt  \n",
            "  inflating: hw2_data/Data-set-1/Train-subsets/X_train_20_.txt  \n",
            "  inflating: hw2_data/Data-set-1/Train-subsets/X_train_30_.txt  \n",
            "  inflating: hw2_data/Data-set-1/Train-subsets/X_train_40_.txt  \n",
            "  inflating: hw2_data/Data-set-1/Train-subsets/X_train_50_.txt  \n",
            "  inflating: hw2_data/Data-set-1/Train-subsets/X_train_60_.txt  \n",
            "  inflating: hw2_data/Data-set-1/Train-subsets/X_train_70_.txt  \n",
            "  inflating: hw2_data/Data-set-1/Train-subsets/X_train_80_.txt  \n",
            "  inflating: hw2_data/Data-set-1/Train-subsets/X_train_90_.txt  \n",
            "  inflating: hw2_data/Data-set-1/Train-subsets/y_train_10_.txt  \n",
            "  inflating: hw2_data/Data-set-1/Train-subsets/y_train_100_.txt  \n",
            "  inflating: hw2_data/Data-set-1/Train-subsets/y_train_20_.txt  \n",
            "  inflating: hw2_data/Data-set-1/Train-subsets/y_train_30_.txt  \n",
            "  inflating: hw2_data/Data-set-1/Train-subsets/y_train_40_.txt  \n",
            "  inflating: hw2_data/Data-set-1/Train-subsets/y_train_50_.txt  \n",
            "  inflating: hw2_data/Data-set-1/Train-subsets/y_train_60_.txt  \n",
            "  inflating: hw2_data/Data-set-1/Train-subsets/y_train_70_.txt  \n",
            "  inflating: hw2_data/Data-set-1/Train-subsets/y_train_80_.txt  \n",
            "  inflating: hw2_data/Data-set-1/Train-subsets/y_train_90_.txt  \n",
            "  inflating: hw2_data/Data-set-1/X_test.txt  \n",
            "  inflating: hw2_data/Data-set-1/X_train.txt  \n",
            "  inflating: hw2_data/Data-set-1/y_test.txt  \n",
            "  inflating: hw2_data/Data-set-1/y_train.txt  \n",
            "   creating: hw2_data/Data-set-2/\n",
            "   creating: hw2_data/Data-set-2/Cross-validation/\n",
            "   creating: hw2_data/Data-set-2/Cross-validation/Fold1/\n",
            "  inflating: hw2_data/Data-set-2/Cross-validation/Fold1/X_10_.txt  \n",
            "  inflating: hw2_data/Data-set-2/Cross-validation/Fold1/X_100_.txt  \n",
            "  inflating: hw2_data/Data-set-2/Cross-validation/Fold1/y_10_.txt  \n",
            "  inflating: hw2_data/Data-set-2/Cross-validation/Fold1/y_100_.txt  \n",
            "   creating: hw2_data/Data-set-2/Cross-validation/Fold2/\n",
            "  inflating: hw2_data/Data-set-2/Cross-validation/Fold2/X_10_.txt  \n",
            "  inflating: hw2_data/Data-set-2/Cross-validation/Fold2/X_100_.txt  \n",
            "  inflating: hw2_data/Data-set-2/Cross-validation/Fold2/y_10_.txt  \n",
            "  inflating: hw2_data/Data-set-2/Cross-validation/Fold2/y_100_.txt  \n",
            "   creating: hw2_data/Data-set-2/Cross-validation/Fold3/\n",
            "  inflating: hw2_data/Data-set-2/Cross-validation/Fold3/X_10_.txt  \n",
            "  inflating: hw2_data/Data-set-2/Cross-validation/Fold3/X_100_.txt  \n",
            "  inflating: hw2_data/Data-set-2/Cross-validation/Fold3/y_10_.txt  \n",
            "  inflating: hw2_data/Data-set-2/Cross-validation/Fold3/y_100_.txt  \n",
            "   creating: hw2_data/Data-set-2/Cross-validation/Fold4/\n",
            "  inflating: hw2_data/Data-set-2/Cross-validation/Fold4/X_10_.txt  \n",
            "  inflating: hw2_data/Data-set-2/Cross-validation/Fold4/X_100_.txt  \n",
            "  inflating: hw2_data/Data-set-2/Cross-validation/Fold4/y_10_.txt  \n",
            "  inflating: hw2_data/Data-set-2/Cross-validation/Fold4/y_100_.txt  \n",
            "   creating: hw2_data/Data-set-2/Cross-validation/Fold5/\n",
            "  inflating: hw2_data/Data-set-2/Cross-validation/Fold5/X_10_.txt  \n",
            "  inflating: hw2_data/Data-set-2/Cross-validation/Fold5/X_100_.txt  \n",
            "  inflating: hw2_data/Data-set-2/Cross-validation/Fold5/y_10_.txt  \n",
            "  inflating: hw2_data/Data-set-2/Cross-validation/Fold5/y_100_.txt  \n",
            "   creating: hw2_data/Data-set-2/Train-subsets/\n",
            "  inflating: hw2_data/Data-set-2/Train-subsets/X_train_10_.txt  \n",
            "  inflating: hw2_data/Data-set-2/Train-subsets/X_train_100_.txt  \n",
            "  inflating: hw2_data/Data-set-2/Train-subsets/y_train_10_.txt  \n",
            "  inflating: hw2_data/Data-set-2/Train-subsets/y_train_100_.txt  \n",
            "  inflating: hw2_data/Data-set-2/X_test.txt  \n",
            "  inflating: hw2_data/Data-set-2/X_train.txt  \n",
            "  inflating: hw2_data/Data-set-2/y_test.txt  \n",
            "  inflating: hw2_data/Data-set-2/y_train.txt  \n"
          ],
          "name": "stdout"
        }
      ]
    },
    {
      "cell_type": "markdown",
      "metadata": {
        "id": "2weGbLJ2txVd",
        "colab_type": "text"
      },
      "source": [
        "## Q1: Least Squares Regression\n",
        "\n",
        "Implement the following functions for question 1. Please **do not** use the sklearn implementation of linear regression or other imports beyond those listed above."
      ]
    },
    {
      "cell_type": "markdown",
      "metadata": {
        "id": "r4LiXAOQoB1J",
        "colab_type": "text"
      },
      "source": [
        "### L1 and L2 error"
      ]
    },
    {
      "cell_type": "code",
      "metadata": {
        "id": "Z0v0785ioB1M",
        "colab_type": "code",
        "colab": {}
      },
      "source": [
        "def L2_error(y, y_hat):\n",
        "    \"\"\"\n",
        "    L2 error loss\n",
        "    \n",
        "    Args:\n",
        "    y ((n,1) np.array): actual labels\n",
        "    y_hat ((n,1) np.array): estimated labels\n",
        "    \n",
        "    Returns:\n",
        "        float: L2 error\n",
        "    \"\"\"\n",
        "#     L2_error = 0\n",
        "#     L2_error = np.linalg.norm(y - y_hat)\n",
        "#     L2_error = L2_error**2\n",
        "    \n",
        "    n = y.shape[0]\n",
        "    diff = y - y_hat\n",
        "    L2_error = np.sum(diff**2)/n\n",
        "\n",
        "#     L2_error = np.absolute(np.linalg.norm(y) -  np.linalg.norm(y_hat))\n",
        "    return L2_error\n",
        "\n",
        "\n",
        "\n",
        "def L1_error(y, y_hat):\n",
        "    \"\"\"\n",
        "    L1 error loss\n",
        "    \n",
        "    Args:\n",
        "    y ((n,1) np.array): actual labels\n",
        "    y_hat ((n,1) np.array): estimated labels\n",
        "    \n",
        "    Returns:\n",
        "        float: L1 error\n",
        "    \"\"\"\n",
        "#     L1_error = 0\n",
        "\n",
        "    n = y.shape[0]\n",
        "    diff = y - y_hat\n",
        "    L1_error = np.sum(np.absolute(diff))/n\n",
        "    \n",
        "    return L1_error"
      ],
      "execution_count": 0,
      "outputs": []
    },
    {
      "cell_type": "markdown",
      "metadata": {
        "id": "asQPLD_HoB1T",
        "colab_type": "text"
      },
      "source": [
        "### Least Square Regression"
      ]
    },
    {
      "cell_type": "code",
      "metadata": {
        "id": "JVMYIbQGoB1W",
        "colab_type": "code",
        "colab": {}
      },
      "source": [
        "def LinearRegression(train_data, train_labels):\n",
        "    \"\"\"\n",
        "    Runs OLS on the given data.\n",
        "    \n",
        "    Args:\n",
        "        train_data ((n,p) np.array): n is the number of training points and p the number of features\n",
        "        train_labels ((n,1) np.array): training labels for the training data    \n",
        "    \n",
        "    Returns\n",
        "        tuple: (w, b) where w is a (p,1) weight vector, and b the bias term     \n",
        "    \"\"\"\n",
        "#     w = np.array()\n",
        "#     b = 0\n",
        "    \n",
        "    n = train_data.shape[0]\n",
        "    p = train_data.shape[1]\n",
        "    \n",
        "    X = np.ones((n, p+1))\n",
        "    X[:, 1:] = train_data\n",
        "    \n",
        "    down = np.linalg.inv(np.dot(X.T, X))\n",
        "    up = np.dot(X.T, train_labels)\n",
        "    \n",
        "    W = np.dot(down, up)  # should be shape (p+1, 1)\n",
        "    \n",
        "    w = W[1:, :]\n",
        "    b = W[0, 0]\n",
        "    \n",
        "    return (w,b)"
      ],
      "execution_count": 0,
      "outputs": []
    },
    {
      "cell_type": "markdown",
      "metadata": {
        "id": "2-MIQRMFoB1j",
        "colab_type": "text"
      },
      "source": [
        "### Ridge Regression"
      ]
    },
    {
      "cell_type": "code",
      "metadata": {
        "id": "8twOpQynoB1m",
        "colab_type": "code",
        "colab": {}
      },
      "source": [
        "def LinearRegressionL2(train_data, train_labels, lambda_):\n",
        "    \"\"\"\n",
        "    Runs linear regression with L2 regularization (ridge) on the given data.\n",
        "    \n",
        "    Args:\n",
        "        train_data ((n,p) np.array): n is the number of training points and p the number of features\n",
        "        train_labels ((n,1) np.array): training labels for the training data    \n",
        "        lambda_  (float): scalar weighting the L2 penalty\n",
        "\n",
        "    Returns\n",
        "        tuple: (w, b) where w is a (p,1) weight vector, and b the bias term  \n",
        "    \"\"\"\n",
        "#     w = np.array()\n",
        "#     b = 0\n",
        "    \n",
        "    n = train_data.shape[0]\n",
        "    p = train_data.shape[1]\n",
        "    \n",
        "    X = np.ones((n, p+1))\n",
        "    X[:, 1:] = train_data\n",
        "    \n",
        "    down = np.linalg.inv(np.dot(X.T, X) + lambda_*n*np.eye(p+1))\n",
        "    up = np.dot(X.T, train_labels)\n",
        "    \n",
        "    W = np.dot(down, up)  # should be shape (p+1, 1)\n",
        "    \n",
        "    w = W[1:, :]\n",
        "    b = W[0, 0]\n",
        "    \n",
        "    return (w,b)"
      ],
      "execution_count": 0,
      "outputs": []
    },
    {
      "cell_type": "markdown",
      "metadata": {
        "id": "cOv6gZT-oB10",
        "colab_type": "text"
      },
      "source": [
        "### Q1.1.1: Learning Curve\n",
        "\n",
        "Use your implementation of (unregularized) least squares regression to learn a regression model from 10$\\%$ of the training data, then 20$\\%$ of the training data, then 30$\\%$ and so on up to 100$\\%$ (separate files containing r$\\%$ of the training examples are provided under the folder for this problem with file names **Data-set-1/Train-subsets/X$\\_$train$\\_$r$\\%$.txt**, and the corresponding labels are provided with the file names **y$\\_$train$\\_$r$\\%$.txt** in the same folder). In each case, measure both the $L_1$ and $L_2$ error on the training examples used, as well as the error on the given test set. Plot a curve showing both errors (on the *y-axis* as a function of the number of training examples used (on the *x-axis*).\n",
        "\n",
        "Add the resulting curve to your Latex document."
      ]
    },
    {
      "cell_type": "code",
      "metadata": {
        "id": "3gGq3BStoB12",
        "colab_type": "code",
        "outputId": "0c844072-3217-4ee8-adcd-ebe06ab24a20",
        "colab": {
          "base_uri": "https://localhost:8080/",
          "height": 397
        }
      },
      "source": [
        "\"\"\"\n",
        "Please remember to comment out all code not contained within a function before \n",
        "submitting your file.\n",
        "\"\"\"\n",
        "\n",
        "X_test = pd.read_csv('hw2_data/Data-set-1/X_test.txt', header=None).as_matrix()\n",
        "y_test = pd.read_csv('hw2_data/Data-set-1/y_test.txt', header=None).as_matrix()\n",
        "\n",
        "#TODO your code here: Question 1.1.1.\n",
        "\n",
        "L1_train_errors = []\n",
        "L2_train_errors = []\n",
        "L1_test_errors = []\n",
        "L2_test_errors = []\n",
        "\n",
        "for i in range(1,11):\n",
        "  \n",
        "    # get percentage data\n",
        "    num_sub = i*10\n",
        "    path_sub_X = 'hw2_data/Data-set-1/Train-subsets/X_train_'+str(num_sub)+'_.txt'\n",
        "    path_sub_y = 'hw2_data/Data-set-1/Train-subsets/y_train_'+str(num_sub)+'_.txt'\n",
        "    \n",
        "    X_sub_train = pd.read_csv(path_sub_X, header=None).as_matrix()\n",
        "    y_sub_train = pd.read_csv(path_sub_y, header=None).as_matrix()\n",
        "    \n",
        "    # train model\n",
        "    (w, b) = LinearRegression(X_sub_train, y_sub_train)\n",
        "    \n",
        "    # get prediction\n",
        "    y_train_pred = np.dot(X_sub_train, w) + b\n",
        "    y_test_pred = np.dot(X_test, w) + b\n",
        "    \n",
        "    # calculate L1 norm\n",
        "    L1_train_error = L1_error(y_sub_train, y_train_pred)\n",
        "    L1_test_error = L1_error(y_test, y_test_pred)\n",
        "    \n",
        "    # calculate L2 norm\n",
        "    L2_train_error = L2_error(y_sub_train, y_train_pred)\n",
        "    L2_test_error = L2_error(y_test, y_test_pred)\n",
        "    \n",
        "    # update errors list\n",
        "    L1_train_errors.append(L1_train_error)\n",
        "    L1_test_errors.append(L1_test_error)\n",
        "    L2_train_errors.append(L2_train_error)\n",
        "    L2_test_errors.append(L2_test_error)\n",
        "    \n",
        "\n",
        "\n",
        "plt.plot(range(10),L1_train_errors, label ='L1_train')\n",
        "plt.plot(range(10),L1_test_errors, label ='L1_test')\n",
        "plt.plot(range(10),L2_train_errors, label = 'L2_train')\n",
        "plt.plot(range(10),L2_test_errors, label = 'L2_test')\n",
        "plt.legend(bbox_to_anchor=(1.05, 1), loc='upper left', borderaxespad=0.)\n",
        "plt.title(\"Learning Curve\")\n",
        "plt.xlabel(\"Percent of Training Data\")\n",
        "plt.xticks(range(10), range(10,101,10))\n",
        "plt.ylabel(\"Error\")\n",
        "plt.show()"
      ],
      "execution_count": 8,
      "outputs": [
        {
          "output_type": "stream",
          "text": [
            "/usr/local/lib/python3.6/dist-packages/ipykernel_launcher.py:6: FutureWarning: Method .as_matrix will be removed in a future version. Use .values instead.\n",
            "  \n",
            "/usr/local/lib/python3.6/dist-packages/ipykernel_launcher.py:7: FutureWarning: Method .as_matrix will be removed in a future version. Use .values instead.\n",
            "  import sys\n",
            "/usr/local/lib/python3.6/dist-packages/ipykernel_launcher.py:23: FutureWarning: Method .as_matrix will be removed in a future version. Use .values instead.\n",
            "/usr/local/lib/python3.6/dist-packages/ipykernel_launcher.py:24: FutureWarning: Method .as_matrix will be removed in a future version. Use .values instead.\n"
          ],
          "name": "stderr"
        },
        {
          "output_type": "display_data",
          "data": {
            "image/png": "[encoded data removed]",
            "text/plain": [
              "<Figure size 432x288 with 1 Axes>"
            ]
          },
          "metadata": {
            "tags": []
          }
        }
      ]
    },
    {
      "cell_type": "markdown",
      "metadata": {
        "id": "giK5b9ukoB1_",
        "colab_type": "text"
      },
      "source": [
        "### Q1.1.2: Analysis of model learned from full training data\n",
        "\n",
        "Write down the weight and bias terms, $\\hat{w}$ and $\\hat{b}$, learned from the full training data in your Latex document. Also, write down the $L_2$ training and test error of this model. In a single figure, draw a plot of the learned linear function (input instance on the *x-axis* and the predicted value on the *y-axis*), along with a scatter plot depicting the true label associated with each test instance.\n",
        "\n",
        "Add the resulting plot to your Latex document."
      ]
    },
    {
      "cell_type": "code",
      "metadata": {
        "id": "xvVwctBdoB2B",
        "colab_type": "code",
        "outputId": "257a9ceb-8bb2-4929-e626-d12543c3d9c0",
        "colab": {
          "base_uri": "https://localhost:8080/",
          "height": 519
        }
      },
      "source": [
        "\"\"\"\n",
        "Please remember to comment out all code not contained within a function before \n",
        "submitting your file.\n",
        "\"\"\"\n",
        "\n",
        "X_test = pd.read_csv('hw2_data/Data-set-1/X_test.txt', header=None).as_matrix()\n",
        "y_test = pd.read_csv('hw2_data/Data-set-1/y_test.txt', header=None).as_matrix()\n",
        "X_train = pd.read_csv('hw2_data/Data-set-1/X_train.txt',header=None).as_matrix()\n",
        "y_train = pd.read_csv('hw2_data/Data-set-1/y_train.txt', header=None).as_matrix()\n",
        "\n",
        "\n",
        "\n",
        "#TODO your code here: Question 1.1.2.\n",
        "\n",
        "# train model on full dataset\n",
        "(w, b) = LinearRegression(X_train, y_train)\n",
        "\n",
        "# print out weight and bias\n",
        "print('w.SHAPE:', w.shape)\n",
        "print('w:', w)\n",
        "print('b.SHAPE:', b.shape)\n",
        "print('b:', b)\n",
        "\n",
        "# get training and test prediction\n",
        "y_train_pred = np.dot(X_train, w) + b\n",
        "y_test_pred = np.dot(X_test, w) + b\n",
        "\n",
        "# calculate L2 training and test error\n",
        "L2_train_error = L2_error(y_train, y_train_pred)\n",
        "L2_test_error = L2_error(y_test, y_test_pred)\n",
        "print('L2 training error:', L2_train_error)\n",
        "print('L2 test error:', L2_test_error)\n",
        "\n",
        "x = np.linspace(0,1)\n",
        "plt.plot(x,(x * w + b).T, color='red')\n",
        "plt.scatter(X_test, y_test)\n",
        "plt.title('Model from Full Training Data')\n",
        "plt.show()"
      ],
      "execution_count": 9,
      "outputs": [
        {
          "output_type": "stream",
          "text": [
            "/usr/local/lib/python3.6/dist-packages/ipykernel_launcher.py:6: FutureWarning: Method .as_matrix will be removed in a future version. Use .values instead.\n",
            "  \n",
            "/usr/local/lib/python3.6/dist-packages/ipykernel_launcher.py:7: FutureWarning: Method .as_matrix will be removed in a future version. Use .values instead.\n",
            "  import sys\n",
            "/usr/local/lib/python3.6/dist-packages/ipykernel_launcher.py:8: FutureWarning: Method .as_matrix will be removed in a future version. Use .values instead.\n",
            "  \n",
            "/usr/local/lib/python3.6/dist-packages/ipykernel_launcher.py:9: FutureWarning: Method .as_matrix will be removed in a future version. Use .values instead.\n",
            "  if __name__ == '__main__':\n"
          ],
          "name": "stderr"
        },
        {
          "output_type": "stream",
          "text": [
            "w.SHAPE: (1, 1)\n",
            "w: [[-2.23442304]]\n",
            "b.SHAPE: ()\n",
            "b: 1.167173881923816\n",
            "L2 training error: 0.2876339586619918\n",
            "L2 test error: 0.3347596869735334\n"
          ],
          "name": "stdout"
        },
        {
          "output_type": "display_data",
          "data": {
            "image/png": "[encoded data removed]",
            "text/plain": [
              "<Figure size 432x288 with 1 Axes>"
            ]
          },
          "metadata": {
            "tags": []
          }
        }
      ]
    },
    {
      "cell_type": "markdown",
      "metadata": {
        "id": "P20rbONVoB2P",
        "colab_type": "text"
      },
      "source": [
        "### Q1.2.1-2: Regression on different portions of training data\n",
        "\n",
        "#### Regression on 10$\\%$ of the training data. \n",
        "Use your implementation of $L_2$-regularized least squares regression to learn a model on 10$\\%$ of the training data. Select the regularization parameter from the range $\\{$0.1, 1, 10, 100, 500, 1000$\\}$ using 5-fold cross validation on the relevant training data (you must use the folds provided in the **Data-set-2/Cross-Validation**). Draw a plot showing $\\lambda$ on the *x-axis* and the training, test, and cross validation errors on the *y-axis* using the $L_2$ error. \n",
        "\n",
        "Then use your implementation of $L_2$-regularized least squares regression to learn a model on 10$\\%$ of the training data. Plot the training, test, and cross validation errors on the *y-axis* of the same plot given each $\\lambda$ (these errors do not depend on $\\lambda$, so they should be horizontal lines). There should be 6 curves on the plot. Then record the chosen value of $\\lambda$ along with the weight vector, bias term, and all corresponding errors (from both types of regression) for the chosen value of $\\lambda$.\n",
        "        \n",
        "#### Regression on 100$\\%$ of the training data.\n",
        "\n",
        "Repeat the above process, but instead learn from the full training data for both $L_2$-regularized regression as well as unregularized regression. Plot all of the errors, and record the chosen value of $\\lambda$ along with the weight vector, bias term, and all corresponding errors (from both types of regression) for the chosen value of $\\lambda$.\n",
        "\n",
        "Add the resulting curves to your Latex document."
      ]
    },
    {
      "cell_type": "code",
      "metadata": {
        "id": "ssEm895ToB2T",
        "colab_type": "code",
        "outputId": "9d968fce-6f66-45f1-cf04-2b268360b2eb",
        "colab": {
          "base_uri": "https://localhost:8080/",
          "height": 1000
        }
      },
      "source": [
        "\"\"\"\n",
        "Please remember to comment out all code not contained within a function before \n",
        "submitting your file.\n",
        "\"\"\"\n",
        "\n",
        "for i in [10, 100]:  # 10% or 100% training data\n",
        "    lambdas = [.1,1,10,100,500,1000]\n",
        "    X_test = pd.read_csv('hw2_data/Data-set-2/X_test.txt').as_matrix()\n",
        "    y_test = pd.read_csv('hw2_data/Data-set-2/y_test.txt').as_matrix()\n",
        "    X_train = pd.read_csv('hw2_data/Data-set-2/Train-subsets/X_train_'+str(i)+'_.txt', delimiter='\\t',header=None).dropna(axis=1).as_matrix()\n",
        "    y_train = pd.read_csv('hw2_data/Data-set-2/Train-subsets/y_train_'+str(i)+'_.txt', delimiter='\\t',header=None).dropna(axis=1).as_matrix()\n",
        "\n",
        "    \n",
        "    \n",
        "    #TODO your code here: Question 1.2 1/2\n",
        "    \n",
        "    \n",
        "    train_errors = []\n",
        "    cv_errors = []\n",
        "    test_errors = []\n",
        "    for ele_lambda in lambdas:\n",
        "        \n",
        "        # trian model\n",
        "        (w, b) = LinearRegressionL2(X_train, y_train, ele_lambda)\n",
        "        \n",
        "        # calculate training error\n",
        "        pred_train = np.dot(X_train, w) + b\n",
        "        error_train = L2_error(y_train, pred_train)\n",
        "        \n",
        "        # calculate test error\n",
        "        pred_test = np.dot(X_test, w) + b\n",
        "        error_test = L2_error(y_test, pred_test)\n",
        "        \n",
        "        # calculate val error\n",
        "        error_val = 0\n",
        "        for k in range(1,6):\n",
        "            # get val test dataset\n",
        "            X_val_test = pd.read_csv('hw2_data/Data-set-2/Cross-validation/Fold'+str(k)+'/X_'+str(i)+'_.txt',header=None).dropna(axis=1).as_matrix()\n",
        "            y_val_test = pd.read_csv('hw2_data/Data-set-2/Cross-validation/Fold'+str(k)+'/y_'+str(i)+'_.txt',header=None).dropna(axis=1).as_matrix()\n",
        "            \n",
        "            # get val train dataset\n",
        "            X_val_train = np.asarray([[]])\n",
        "            y_val_train = np.asarray([[]])\n",
        "            for k_train in range(1,6):\n",
        "                if k_train != k:\n",
        "                    ele_X_val_train = pd.read_csv('hw2_data/Data-set-2/Cross-validation/Fold'+str(k_train)+'/X_'+str(i)+'_.txt',header=None).dropna(axis=1).as_matrix()\n",
        "                    ele_y_val_train = pd.read_csv('hw2_data/Data-set-2/Cross-validation/Fold'+str(k_train)+'/y_'+str(i)+'_.txt',header=None).dropna(axis=1).as_matrix()\n",
        "                    if X_val_train.size == 0:\n",
        "                        X_val_train = ele_X_val_train\n",
        "                        y_val_train = ele_y_val_train\n",
        "                    else:\n",
        "                        X_val_train = np.append(X_val_train, ele_X_val_train, axis=0)\n",
        "                        y_val_train = np.append(y_val_train, ele_y_val_train, axis=0)\n",
        "                    \n",
        "            # train model\n",
        "            (w_val, b_val) = LinearRegressionL2(X_val_train, y_val_train, ele_lambda)\n",
        "            # get prediction on val_test\n",
        "            pred_val_test = np.dot(X_val_test, w_val) + b_val\n",
        "            # calculate error\n",
        "            error_val_k = L2_error(y_val_test, pred_val_test)\n",
        "            \n",
        "            error_val += error_val_k\n",
        "            \n",
        "        error_val /= 5.0\n",
        "        \n",
        "        # update errors\n",
        "        train_errors.append(error_train)\n",
        "        cv_errors.append(error_val)\n",
        "        test_errors.append(error_test)\n",
        "        \n",
        "        # output value\n",
        "        print('lambda:', ele_lambda)\n",
        "        print('w:', w)\n",
        "        print('b:', b)\n",
        "        print('training error',error_train)\n",
        "        print('test error',error_test)\n",
        "        print('val error',error_val)\n",
        "        print('******************************************')\n",
        "    \n",
        "    \n",
        "    plt.plot(range(6), train_errors, label='training error')\n",
        "    plt.plot(range(6),cv_errors, label = 'cv error')\n",
        "    plt.plot(range(6), test_errors, label = 'test error')\n",
        "    plt.legend(bbox_to_anchor=(1.05, 1), loc='upper left', borderaxespad=0.)\n",
        "    plt.title('Regularized Regression on ' + str(i) + '% of the training data')\n",
        "    plt.ylabel('L2 error')\n",
        "    plt.xlabel('Lambda Value')\n",
        "    plt.xticks(range(6), lambdas)\n",
        "    plt.show()\n",
        "\n",
        "# ======================= OLS ============================\n",
        "\n",
        "print('======================= OLS ============================')\n",
        "for i in [10, 100]:  # 10% or 100% training data\n",
        "    lambdas = [.1,1,10,100,500,1000]\n",
        "    X_test = pd.read_csv('hw2_data/Data-set-2/X_test.txt').as_matrix()\n",
        "    y_test = pd.read_csv('hw2_data/Data-set-2/y_test.txt').as_matrix()\n",
        "    X_train = pd.read_csv('hw2_data/Data-set-2/Train-subsets/X_train_'+str(i)+'_.txt', delimiter='\\t',header=None).dropna(axis=1).as_matrix()\n",
        "    y_train = pd.read_csv('hw2_data/Data-set-2/Train-subsets/y_train_'+str(i)+'_.txt', delimiter='\\t',header=None).dropna(axis=1).as_matrix()\n",
        "\n",
        "    \n",
        "    \n",
        "    #TODO your code here: Question 1.2 1/2\n",
        "    \n",
        "    \n",
        "    train_errors = []\n",
        "    cv_errors = []\n",
        "    test_errors = []\n",
        "    for ele_lambda in lambdas:\n",
        "        \n",
        "        # trian model\n",
        "        (w, b) = LinearRegression(X_train, y_train)\n",
        "        \n",
        "        # calculate training error\n",
        "        pred_train = np.dot(X_train, w) + b\n",
        "        error_train = L2_error(y_train, pred_train)\n",
        "        \n",
        "        # calculate test error\n",
        "        pred_test = np.dot(X_test, w) + b\n",
        "        error_test = L2_error(y_test, pred_test)\n",
        "        \n",
        "        # calculate val error\n",
        "        error_val = 0\n",
        "        for k in range(1,6):\n",
        "            # get val test dataset\n",
        "            X_val_test = pd.read_csv('hw2_data/Data-set-2/Cross-validation/Fold'+str(k)+'/X_'+str(i)+'_.txt',header=None).dropna(axis=1).as_matrix()\n",
        "            y_val_test = pd.read_csv('hw2_data/Data-set-2/Cross-validation/Fold'+str(k)+'/y_'+str(i)+'_.txt',header=None).dropna(axis=1).as_matrix()\n",
        "            \n",
        "            # get val train dataset\n",
        "            X_val_train = np.asarray([[]])\n",
        "            y_val_train = np.asarray([[]])\n",
        "            for k_train in range(1,6):\n",
        "                if k_train != k:\n",
        "                    ele_X_val_train = pd.read_csv('hw2_data/Data-set-2/Cross-validation/Fold'+str(k_train)+'/X_'+str(i)+'_.txt',header=None).dropna(axis=1).as_matrix()\n",
        "                    ele_y_val_train = pd.read_csv('hw2_data/Data-set-2/Cross-validation/Fold'+str(k_train)+'/y_'+str(i)+'_.txt',header=None).dropna(axis=1).as_matrix()\n",
        "                    if X_val_train.size == 0:\n",
        "                        X_val_train = ele_X_val_train\n",
        "                        y_val_train = ele_y_val_train\n",
        "                    else:\n",
        "                        X_val_train = np.append(X_val_train, ele_X_val_train, axis=0)\n",
        "                        y_val_train = np.append(y_val_train, ele_y_val_train, axis=0)\n",
        "                    \n",
        "            # train model\n",
        "            (w_val, b_val) = LinearRegression(X_val_train, y_val_train)\n",
        "            # get prediction on val_test\n",
        "            pred_val_test = np.dot(X_val_test, w_val) + b_val\n",
        "            # calculate error\n",
        "            error_val_k = L2_error(y_val_test, pred_val_test)\n",
        "            \n",
        "            error_val += error_val_k\n",
        "            \n",
        "        error_val /= 5.0\n",
        "        \n",
        "        # update errors\n",
        "        train_errors.append(error_train)\n",
        "        cv_errors.append(error_val)\n",
        "        test_errors.append(error_test)\n",
        "        \n",
        "        # output value\n",
        "        print('lambda:', ele_lambda)\n",
        "        print('w:', w)\n",
        "        print('b:', b)\n",
        "        print('training error',error_train)\n",
        "        print('test error',error_test)\n",
        "        print('val error',error_val)\n",
        "        print('******************************************')\n",
        "    \n",
        "    \n",
        "    plt.plot(range(6), train_errors, label='training error')\n",
        "    plt.plot(range(6),cv_errors, label = 'cv error')\n",
        "    plt.plot(range(6), test_errors, label = 'test error')\n",
        "    plt.legend(bbox_to_anchor=(1.05, 1), loc='upper left', borderaxespad=0.)\n",
        "    plt.title('Unregularized Regression on ' + str(i) + '% of the training data')\n",
        "    plt.ylabel('L2 error')\n",
        "    plt.xlabel('Lambda Value')\n",
        "    plt.xticks(range(6), lambdas)\n",
        "    plt.show()"
      ],
      "execution_count": 10,
      "outputs": [
        {
          "output_type": "stream",
          "text": [
            "/usr/local/lib/python3.6/dist-packages/ipykernel_launcher.py:8: FutureWarning: Method .as_matrix will be removed in a future version. Use .values instead.\n",
            "  \n",
            "/usr/local/lib/python3.6/dist-packages/ipykernel_launcher.py:9: FutureWarning: Method .as_matrix will be removed in a future version. Use .values instead.\n",
            "  if __name__ == '__main__':\n",
            "/usr/local/lib/python3.6/dist-packages/ipykernel_launcher.py:10: FutureWarning: Method .as_matrix will be removed in a future version. Use .values instead.\n",
            "  # Remove the CWD from sys.path while we load stuff.\n",
            "/usr/local/lib/python3.6/dist-packages/ipykernel_launcher.py:11: FutureWarning: Method .as_matrix will be removed in a future version. Use .values instead.\n",
            "  # This is added back by InteractiveShellApp.init_path()\n",
            "/usr/local/lib/python3.6/dist-packages/ipykernel_launcher.py:38: FutureWarning: Method .as_matrix will be removed in a future version. Use .values instead.\n",
            "/usr/local/lib/python3.6/dist-packages/ipykernel_launcher.py:39: FutureWarning: Method .as_matrix will be removed in a future version. Use .values instead.\n",
            "/usr/local/lib/python3.6/dist-packages/ipykernel_launcher.py:46: FutureWarning: Method .as_matrix will be removed in a future version. Use .values instead.\n",
            "/usr/local/lib/python3.6/dist-packages/ipykernel_launcher.py:47: FutureWarning: Method .as_matrix will be removed in a future version. Use .values instead.\n"
          ],
          "name": "stderr"
        },
        {
          "output_type": "stream",
          "text": [
            "lambda: 0.1\n",
            "w: [[ 0.12109453]\n",
            " [ 0.08122992]\n",
            " [ 0.10586679]\n",
            " [-0.1349752 ]\n",
            " [-0.19179253]\n",
            " [-0.00455923]\n",
            " [ 0.01907066]\n",
            " [ 0.09867383]]\n",
            "b: 0.04934075492892781\n",
            "training error 87.09363431999986\n",
            "test error 125.99246541235695\n",
            "val error 112.60396472460552\n",
            "******************************************\n",
            "lambda: 1\n",
            "w: [[ 0.12059449]\n",
            " [ 0.08045096]\n",
            " [ 0.10460132]\n",
            " [-0.13319788]\n",
            " [-0.1729589 ]\n",
            " [-0.00449791]\n",
            " [ 0.01881756]\n",
            " [ 0.09876524]]\n",
            "b: 0.004706598183467324\n",
            "training error 87.09822074779069\n",
            "test error 125.60544034043807\n",
            "val error 112.15708944487558\n",
            "******************************************\n",
            "lambda: 10\n",
            "w: [[ 0.11794053]\n",
            " [ 0.07645492]\n",
            " [ 0.09809221]\n",
            " [-0.12408381]\n",
            " [-0.08212219]\n",
            " [-0.00431758]\n",
            " [ 0.01749249]\n",
            " [ 0.09900003]]\n",
            "b: 0.0003372600147487073\n",
            "training error 87.21498949968179\n",
            "test error 123.96908235758023\n",
            "val error 110.52358420481751\n",
            "******************************************\n",
            "lambda: 100\n",
            "w: [[ 0.11260934]\n",
            " [ 0.07011989]\n",
            " [ 0.08698087]\n",
            " [-0.10310195]\n",
            " [ 0.00109494]\n",
            " [-0.00478395]\n",
            " [ 0.01595518]\n",
            " [ 0.09577656]]\n",
            "b: -3.2136614575785003e-06\n",
            "training error 87.77625685995123\n",
            "test error 123.92214856239444\n",
            "val error 109.50895981048522\n",
            "******************************************\n",
            "lambda: 500\n",
            "w: [[ 0.10122071]\n",
            " [ 0.06014425]\n",
            " [ 0.06724748]\n",
            " [-0.06447636]\n",
            " [ 0.01041297]\n",
            " [-0.00551348]\n",
            " [ 0.01485543]\n",
            " [ 0.08324156]]\n",
            "b: 6.13934222012354e-06\n",
            "training error 91.9292342254819\n",
            "test error 130.3459543908703\n",
            "val error 112.88295513125104\n",
            "******************************************\n",
            "lambda: 1000\n",
            "w: [[ 0.09145789]\n",
            " [ 0.05250759]\n",
            " [ 0.05171407]\n",
            " [-0.04214843]\n",
            " [ 0.00901234]\n",
            " [-0.00449071]\n",
            " [ 0.01424362]\n",
            " [ 0.07267192]]\n",
            "b: 2.0090825795361067e-05\n",
            "training error 98.18195923001336\n",
            "test error 138.01180021133808\n",
            "val error 119.25805526891324\n",
            "******************************************\n"
          ],
          "name": "stdout"
        },
        {
          "output_type": "display_data",
          "data": {
            "image/png": "[encoded data removed]",
            "text/plain": [
              "<Figure size 432x288 with 1 Axes>"
            ]
          },
          "metadata": {
            "tags": []
          }
        },
        {
          "output_type": "stream",
          "text": [
            "lambda: 0.1\n",
            "w: [[ 0.12083821]\n",
            " [ 0.10499023]\n",
            " [ 0.09043737]\n",
            " [-0.20199794]\n",
            " [ 0.13821679]\n",
            " [ 0.00985501]\n",
            " [ 0.01336793]\n",
            " [ 0.11609619]]\n",
            "b: 0.00265137463918122\n",
            "training error 104.48788909130454\n",
            "test error 115.67857617902833\n",
            "val error 107.07140870263599\n",
            "******************************************\n",
            "lambda: 1\n",
            "w: [[ 0.12099596]\n",
            " [ 0.10516235]\n",
            " [ 0.0907894 ]\n",
            " [-0.20235316]\n",
            " [ 0.13152115]\n",
            " [ 0.00979028]\n",
            " [ 0.01349333]\n",
            " [ 0.11605291]]\n",
            "b: 0.00025419890856284363\n",
            "training error 104.48871276220832\n",
            "test error 115.73956074092463\n",
            "val error 107.04137527660278\n",
            "******************************************\n",
            "lambda: 10\n",
            "w: [[ 0.12173307]\n",
            " [ 0.10586938]\n",
            " [ 0.09255268]\n",
            " [-0.20286655]\n",
            " [ 0.09355847]\n",
            " [ 0.00926679]\n",
            " [ 0.01414861]\n",
            " [ 0.11550717]]\n",
            "b: -3.224001951134068e-05\n",
            "training error 104.52512192135991\n",
            "test error 116.0482706679541\n",
            "val error 106.90771359485484\n",
            "******************************************\n",
            "lambda: 100\n",
            "w: [[ 0.11985535]\n",
            " [ 0.10203642]\n",
            " [ 0.09052741]\n",
            " [-0.17763008]\n",
            " [ 0.04409389]\n",
            " [ 0.00609244]\n",
            " [ 0.0141595 ]\n",
            " [ 0.10943393]]\n",
            "b: -8.614863648393725e-05\n",
            "training error 105.45283629155969\n",
            "test error 116.07251935664785\n",
            "val error 107.6393223714072\n",
            "******************************************\n",
            "lambda: 500\n",
            "w: [[ 0.10942204]\n",
            " [ 0.08602238]\n",
            " [ 0.07386281]\n",
            " [-0.10609795]\n",
            " [ 0.02528041]\n",
            " [ 0.00029559]\n",
            " [ 0.01233342]\n",
            " [ 0.09119013]]\n",
            "b: -2.7529521054529344e-05\n",
            "training error 114.20300129329779\n",
            "test error 120.72969649618227\n",
            "val error 116.32223292757389\n",
            "******************************************\n",
            "lambda: 1000\n",
            "w: [[ 0.10016827]\n",
            " [ 0.0736345 ]\n",
            " [ 0.05872488]\n",
            " [-0.06805941]\n",
            " [ 0.01822131]\n",
            " [-0.0010615 ]\n",
            " [ 0.01150131]\n",
            " [ 0.07769806]]\n",
            "b: 4.257611778627862e-06\n",
            "training error 125.03083083983557\n",
            "test error 128.149073961039\n",
            "val error 127.04390831500916\n",
            "******************************************\n"
          ],
          "name": "stdout"
        },
        {
          "output_type": "display_data",
          "data": {
            "image/png": "[encoded data removed]",
            "text/plain": [
              "<Figure size 432x288 with 1 Axes>"
            ]
          },
          "metadata": {
            "tags": []
          }
        },
        {
          "output_type": "stream",
          "text": [
            "======================= OLS ============================\n"
          ],
          "name": "stdout"
        },
        {
          "output_type": "stream",
          "text": [
            "/usr/local/lib/python3.6/dist-packages/ipykernel_launcher.py:96: FutureWarning: Method .as_matrix will be removed in a future version. Use .values instead.\n",
            "/usr/local/lib/python3.6/dist-packages/ipykernel_launcher.py:97: FutureWarning: Method .as_matrix will be removed in a future version. Use .values instead.\n",
            "/usr/local/lib/python3.6/dist-packages/ipykernel_launcher.py:98: FutureWarning: Method .as_matrix will be removed in a future version. Use .values instead.\n",
            "/usr/local/lib/python3.6/dist-packages/ipykernel_launcher.py:99: FutureWarning: Method .as_matrix will be removed in a future version. Use .values instead.\n",
            "/usr/local/lib/python3.6/dist-packages/ipykernel_launcher.py:126: FutureWarning: Method .as_matrix will be removed in a future version. Use .values instead.\n",
            "/usr/local/lib/python3.6/dist-packages/ipykernel_launcher.py:127: FutureWarning: Method .as_matrix will be removed in a future version. Use .values instead.\n",
            "/usr/local/lib/python3.6/dist-packages/ipykernel_launcher.py:134: FutureWarning: Method .as_matrix will be removed in a future version. Use .values instead.\n",
            "/usr/local/lib/python3.6/dist-packages/ipykernel_launcher.py:135: FutureWarning: Method .as_matrix will be removed in a future version. Use .values instead.\n"
          ],
          "name": "stderr"
        },
        {
          "output_type": "stream",
          "text": [
            "lambda: 0.1\n",
            "w: [[ 0.10922122]\n",
            " [ 0.06857459]\n",
            " [ 0.0908733 ]\n",
            " [-0.19236848]\n",
            " [-0.23666426]\n",
            " [-0.01828303]\n",
            " [ 0.00339166]\n",
            " [ 0.09943795]]\n",
            "b: 41.30521255348464\n",
            "training error 86.8888608746416\n",
            "test error 126.64713732621314\n",
            "val error 115.68325931149714\n",
            "******************************************\n",
            "lambda: 1\n",
            "w: [[ 0.10922122]\n",
            " [ 0.06857459]\n",
            " [ 0.0908733 ]\n",
            " [-0.19236848]\n",
            " [-0.23666426]\n",
            " [-0.01828303]\n",
            " [ 0.00339166]\n",
            " [ 0.09943795]]\n",
            "b: 41.30521255348464\n",
            "training error 86.8888608746416\n",
            "test error 126.64713732621314\n",
            "val error 115.68325931149714\n",
            "******************************************\n",
            "lambda: 10\n",
            "w: [[ 0.10922122]\n",
            " [ 0.06857459]\n",
            " [ 0.0908733 ]\n",
            " [-0.19236848]\n",
            " [-0.23666426]\n",
            " [-0.01828303]\n",
            " [ 0.00339166]\n",
            " [ 0.09943795]]\n",
            "b: 41.30521255348464\n",
            "training error 86.8888608746416\n",
            "test error 126.64713732621314\n",
            "val error 115.68325931149714\n",
            "******************************************\n",
            "lambda: 100\n",
            "w: [[ 0.10922122]\n",
            " [ 0.06857459]\n",
            " [ 0.0908733 ]\n",
            " [-0.19236848]\n",
            " [-0.23666426]\n",
            " [-0.01828303]\n",
            " [ 0.00339166]\n",
            " [ 0.09943795]]\n",
            "b: 41.30521255348464\n",
            "training error 86.8888608746416\n",
            "test error 126.64713732621314\n",
            "val error 115.68325931149714\n",
            "******************************************\n",
            "lambda: 500\n",
            "w: [[ 0.10922122]\n",
            " [ 0.06857459]\n",
            " [ 0.0908733 ]\n",
            " [-0.19236848]\n",
            " [-0.23666426]\n",
            " [-0.01828303]\n",
            " [ 0.00339166]\n",
            " [ 0.09943795]]\n",
            "b: 41.30521255348464\n",
            "training error 86.8888608746416\n",
            "test error 126.64713732621314\n",
            "val error 115.68325931149714\n",
            "******************************************\n",
            "lambda: 1000\n",
            "w: [[ 0.10922122]\n",
            " [ 0.06857459]\n",
            " [ 0.0908733 ]\n",
            " [-0.19236848]\n",
            " [-0.23666426]\n",
            " [-0.01828303]\n",
            " [ 0.00339166]\n",
            " [ 0.09943795]]\n",
            "b: 41.30521255348464\n",
            "training error 86.8888608746416\n",
            "test error 126.64713732621314\n",
            "val error 115.68325931149714\n",
            "******************************************\n"
          ],
          "name": "stdout"
        },
        {
          "output_type": "display_data",
          "data": {
            "image/png": "[encoded data removed]",
            "text/plain": [
              "<Figure size 432x288 with 1 Axes>"
            ]
          },
          "metadata": {
            "tags": []
          }
        },
        {
          "output_type": "stream",
          "text": [
            "lambda: 0.1\n",
            "w: [[ 0.12029708]\n",
            " [ 0.10437091]\n",
            " [ 0.08972219]\n",
            " [-0.20458945]\n",
            " [ 0.13667725]\n",
            " [ 0.00925   ]\n",
            " [ 0.01264529]\n",
            " [ 0.11608852]]\n",
            "b: 1.8679030172625914\n",
            "training error 104.48738463475489\n",
            "test error 115.71849663074035\n",
            "val error 107.44299359046406\n",
            "******************************************\n",
            "lambda: 1\n",
            "w: [[ 0.12029708]\n",
            " [ 0.10437091]\n",
            " [ 0.08972219]\n",
            " [-0.20458945]\n",
            " [ 0.13667725]\n",
            " [ 0.00925   ]\n",
            " [ 0.01264529]\n",
            " [ 0.11608852]]\n",
            "b: 1.8679030172625914\n",
            "training error 104.48738463475489\n",
            "test error 115.71849663074035\n",
            "val error 107.44299359046406\n",
            "******************************************\n",
            "lambda: 10\n",
            "w: [[ 0.12029708]\n",
            " [ 0.10437091]\n",
            " [ 0.08972219]\n",
            " [-0.20458945]\n",
            " [ 0.13667725]\n",
            " [ 0.00925   ]\n",
            " [ 0.01264529]\n",
            " [ 0.11608852]]\n",
            "b: 1.8679030172625914\n",
            "training error 104.48738463475489\n",
            "test error 115.71849663074035\n",
            "val error 107.44299359046406\n",
            "******************************************\n",
            "lambda: 100\n",
            "w: [[ 0.12029708]\n",
            " [ 0.10437091]\n",
            " [ 0.08972219]\n",
            " [-0.20458945]\n",
            " [ 0.13667725]\n",
            " [ 0.00925   ]\n",
            " [ 0.01264529]\n",
            " [ 0.11608852]]\n",
            "b: 1.8679030172625914\n",
            "training error 104.48738463475489\n",
            "test error 115.71849663074035\n",
            "val error 107.44299359046406\n",
            "******************************************\n",
            "lambda: 500\n",
            "w: [[ 0.12029708]\n",
            " [ 0.10437091]\n",
            " [ 0.08972219]\n",
            " [-0.20458945]\n",
            " [ 0.13667725]\n",
            " [ 0.00925   ]\n",
            " [ 0.01264529]\n",
            " [ 0.11608852]]\n",
            "b: 1.8679030172625914\n",
            "training error 104.48738463475489\n",
            "test error 115.71849663074035\n",
            "val error 107.44299359046406\n",
            "******************************************\n",
            "lambda: 1000\n",
            "w: [[ 0.12029708]\n",
            " [ 0.10437091]\n",
            " [ 0.08972219]\n",
            " [-0.20458945]\n",
            " [ 0.13667725]\n",
            " [ 0.00925   ]\n",
            " [ 0.01264529]\n",
            " [ 0.11608852]]\n",
            "b: 1.8679030172625914\n",
            "training error 104.48738463475489\n",
            "test error 115.71849663074035\n",
            "val error 107.44299359046406\n",
            "******************************************\n"
          ],
          "name": "stdout"
        },
        {
          "output_type": "display_data",
          "data": {
            "image/png": "[encoded data removed]",
            "text/plain": [
              "<Figure size 432x288 with 1 Axes>"
            ]
          },
          "metadata": {
            "tags": []
          }
        }
      ]
    },
    {
      "cell_type": "markdown",
      "metadata": {
        "id": "0zkrzJ8LYWNv",
        "colab_type": "text"
      },
      "source": [
        "### Q1.2 Report on Latex\n",
        "Answer the following questions on Latex in the respective section.\n",
        "\n",
        "1.2.3 For each of the two training sets considered above (10$\\%$ and 100$\\%$), compare the training and test errors of the models learned using unregularized least squares regression and ridge regression. What can you conclude from this about the value of regularization for small and large training sets?\n",
        "\n",
        "1.2.4 For each of the two training sets considered above (10$\\%$ and 100$\\%$), what does theory predict the difference in the value of $\\lambda$ would be? Which $\\lambda$ should be larger? Do those values align with the conclusion you made in part 1.3?\n"
      ]
    },
    {
      "cell_type": "markdown",
      "metadata": {
        "id": "XOST5QSSXcCR",
        "colab_type": "text"
      },
      "source": [
        "## Q2: Batch Gradient Descent\n"
      ]
    },
    {
      "cell_type": "markdown",
      "metadata": {
        "id": "3FG2ga9IoB1q",
        "colab_type": "text"
      },
      "source": [
        "### Gradient Descent Linear Regression"
      ]
    },
    {
      "cell_type": "code",
      "metadata": {
        "id": "1iOD4J1noB1t",
        "colab_type": "code",
        "colab": {}
      },
      "source": [
        "def LinearRegressionGD(train_data, train_labels, iters, learning_rate):\n",
        "    \"\"\"\n",
        "    Args:\n",
        "        train_data ((n,p) np.array): n is the number of training points and p the number of features\n",
        "        train_labels ((n,1) np.array): training labels for the training data \n",
        "        iters (int): the number of iterations to run Gradient Descent\n",
        "        learning_rate (float): the alpha value for gradient descent\n",
        "\n",
        "    Returns\n",
        "        tuple: (w, b) where w is a (p,1) weight vector, and b the bias term \n",
        "    \"\"\"\n",
        "#     w = np.array()\n",
        "#     b = 0\n",
        "    \n",
        "    n = train_data.shape[0]\n",
        "    p = train_data.shape[1]\n",
        "    \n",
        "    X = np.ones((n, p+1))\n",
        "    X[:, 1:] = train_data\n",
        "    \n",
        "    # OLS method\n",
        "#     down = np.linalg.inv(np.dot(X.T, X))\n",
        "#     up = np.dot(X.T, train_labels)\n",
        "    \n",
        "#     W = np.dot(down, up)  # should be shape (p+1, 1)\n",
        "    \n",
        "    # BGD (Bach Gradient Descent) method\n",
        "    # initiate W\n",
        "    W = np.zeros((p+1,1))\n",
        "    # iterate to update W\n",
        "    for i in range(iters):\n",
        "        W_delta = (2.0/n) * np.sum((np.dot(X, W)-train_labels)*X, axis=0)\n",
        "        W_delta = W_delta[:, np.newaxis]\n",
        "        W -= learning_rate * W_delta\n",
        "    \n",
        "    w = W[1:, :]\n",
        "    b = W[0, 0]\n",
        "    \n",
        "    return (w, b)"
      ],
      "execution_count": 0,
      "outputs": []
    },
    {
      "cell_type": "markdown",
      "metadata": {
        "id": "GxQ_BL9IoB2q",
        "colab_type": "text"
      },
      "source": [
        "### Q2.2: Batch Gradient Descent Runtime\n",
        "\n",
        "Time the gradient descent implementation you just wrote on the full training data for Data Set 1 with iterations from range $\\{$10, 100, 1000$\\}$, and a learning rate of 0.01. Write down the weight and bias terms , $\\hat{w}$ and $\\hat{b}$, learned from the full training data in your Latex document, as well as the $L_2$ error on the test data, and the time it took to run the full process. "
      ]
    },
    {
      "cell_type": "code",
      "metadata": {
        "id": "dtVVF2hGoB2t",
        "colab_type": "code",
        "outputId": "50e20cf0-cd41-47e1-a30c-a821c0644e23",
        "colab": {
          "base_uri": "https://localhost:8080/",
          "height": 340
        }
      },
      "source": [
        "\"\"\"\n",
        "Please remember to comment out all code not contained within a function before \n",
        "submitting your file.\n",
        "\"\"\"\n",
        "\n",
        "X_test = pd.read_csv('hw2_data/Data-set-1/X_test.txt', header=None).as_matrix()\n",
        "y_test = pd.read_csv('hw2_data/Data-set-1/y_test.txt', header=None).as_matrix()\n",
        "X_train = pd.read_csv('hw2_data/Data-set-1/X_train.txt',delimiter='\\t', header=None).dropna(axis=1).as_matrix()\n",
        "y_train = pd.read_csv('hw2_data/Data-set-1/y_train.txt', header=None).as_matrix()\n",
        "\n",
        "start = time.time()\n",
        "(w,b) = LinearRegression(X_train, y_train)\n",
        "y_test_pred = np.matmul(X_test, w) + b\n",
        "y_train_pred = np.matmul(X_train, w) + b\n",
        "\n",
        "\n",
        "L2_error(y_test, y_test_pred)\n",
        "print(\"--- OLS Closed Form ---\")\n",
        "print(\"W:\", w.T, \"B:\", b)\n",
        "print(\"L2 Training Error:\", L2_error(y_train, y_train_pred))\n",
        "print(\"L2 Test Error:\", L2_error(y_test, y_test_pred))\n",
        "print(\"Time:\", time.time() - start)\n",
        "print()\n",
        "\n",
        "start = time.time()\n",
        "(w,b) = LinearRegressionGD(X_train, y_train, 1000, .01)\n",
        "y_test_pred = np.matmul(X_test, [w]) + b\n",
        "y_train_pred = np.matmul(X_train, [w]) + b\n",
        "L2_error(y_test, y_test_pred)\n",
        "print(\"---  Gradient Descent ---\")\n",
        "print(\"W:\", w, \"B:\", b)\n",
        "print(\"L2 Training Error:\", L2_error(y_train, y_train_pred))\n",
        "print(\"L2 Test Error:\", L2_error(y_test, y_test_pred))\n",
        "print(\"Time:\", time.time() - start)"
      ],
      "execution_count": 12,
      "outputs": [
        {
          "output_type": "stream",
          "text": [
            "--- OLS Closed Form ---\n",
            "W: [[-2.23442304]] B: 1.167173881923816\n",
            "L2 Training Error: 0.2876339586619918\n",
            "L2 Test Error: 0.3347596869735334\n",
            "Time: 0.0034308433532714844\n",
            "\n",
            "---  Gradient Descent ---\n",
            "W: [[-1.57947694]] B: 0.8137918587300189\n",
            "L2 Training Error: 0.3213964163657431\n",
            "L2 Test Error: 0.3484509604983921\n",
            "Time: 0.02536320686340332\n"
          ],
          "name": "stdout"
        },
        {
          "output_type": "stream",
          "text": [
            "/usr/local/lib/python3.6/dist-packages/ipykernel_launcher.py:6: FutureWarning: Method .as_matrix will be removed in a future version. Use .values instead.\n",
            "  \n",
            "/usr/local/lib/python3.6/dist-packages/ipykernel_launcher.py:7: FutureWarning: Method .as_matrix will be removed in a future version. Use .values instead.\n",
            "  import sys\n",
            "/usr/local/lib/python3.6/dist-packages/ipykernel_launcher.py:8: FutureWarning: Method .as_matrix will be removed in a future version. Use .values instead.\n",
            "  \n",
            "/usr/local/lib/python3.6/dist-packages/ipykernel_launcher.py:9: FutureWarning: Method .as_matrix will be removed in a future version. Use .values instead.\n",
            "  if __name__ == '__main__':\n"
          ],
          "name": "stderr"
        }
      ]
    },
    {
      "cell_type": "markdown",
      "metadata": {
        "id": "e57oBdHBa4i0",
        "colab_type": "text"
      },
      "source": [
        "### Q2.3 Report on Latex\n",
        "Answer the followings question on Latex in the respective section.\n",
        "\n",
        "Which algorithm runs faster? Why might that be the case? Why would we ever use gradient descent linear regression in practice while a closed form solution exists?"
      ]
    },
    {
      "cell_type": "markdown",
      "metadata": {
        "id": "iqECw4f6LJCx",
        "colab_type": "text"
      },
      "source": [
        "## Turning it in\n",
        "\n",
        "\n",
        "**Remember to recomment all script portions of this notebook before submitting (i.e. any code not in a function, excluding code that imports libraries). This is to ensure that the Autograder works properly. Also make sure you did not edit other sections of the code outside of specified areas.**\n",
        "\n",
        "1. Download this notebook as a `hw2.py` file with the functions implemented and the sandbox code commented out\n",
        "  - If using Google Colab, go to \"File -> Download .py\"\n",
        "  - If using Jupyter locally, go to \"File -> Download as -> Python (.py)\"\n",
        "  \n",
        "2. Submit `hw2.py` file to Gradescope (you can do this as many times as you'd like before the deadline)"
      ]
    }
  ]
}