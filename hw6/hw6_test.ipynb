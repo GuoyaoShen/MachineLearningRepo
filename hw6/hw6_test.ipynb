{
  "nbformat": 4,
  "nbformat_minor": 0,
  "metadata": {
    "kernelspec": {
      "display_name": "Python 3",
      "language": "python",
      "name": "python3"
    },
    "language_info": {
      "codemirror_mode": {
        "name": "ipython",
        "version": 3
      },
      "file_extension": ".py",
      "mimetype": "text/x-python",
      "name": "python",
      "nbconvert_exporter": "python",
      "pygments_lexer": "ipython3",
      "version": "3.5.1+"
    },
    "colab": {
      "name": "hw6_test.ipynb",
      "provenance": [],
      "collapsed_sections": []
    }
  },
  "cells": [
    {
      "cell_type": "markdown",
      "metadata": {
        "id": "lkAFpdl73Ccg",
        "colab_type": "text"
      },
      "source": [
        "# Homework 6: Coding\n",
        "\n",
        "**Due Monday November 4th, 11:59pm.**\n",
        "\n",
        "**This is an individual assignment.**\n",
        "\n",
        "**Submit hw6.py file to Gradescope (note there is no autograder for this assignment).**"
      ]
    },
    {
      "cell_type": "code",
      "metadata": {
        "id": "ERUagKRggAIQ",
        "colab_type": "code",
        "colab": {}
      },
      "source": [
        "\"\"\"\n",
        "Import libraries that you might require.\n",
        "\"\"\"\n",
        "import numpy as np\n",
        "from numpy import linalg as LA\n",
        "import matplotlib.pyplot as plt\n",
        "from scipy.spatial import distance\n",
        "import random\n",
        "from sklearn.datasets import load_breast_cancer\n",
        "from sklearn.linear_model import LinearRegression, LogisticRegression\n",
        "%matplotlib inline"
      ],
      "execution_count": 0,
      "outputs": []
    },
    {
      "cell_type": "markdown",
      "metadata": {
        "id": "GlgM0Bwtt5rQ",
        "colab_type": "text"
      },
      "source": [
        "# **Data Imputation**"
      ]
    },
    {
      "cell_type": "markdown",
      "metadata": {
        "id": "sQvGLh_PgIe3",
        "colab_type": "text"
      },
      "source": [
        "## Importing the Data\n",
        "Here we import the data and randomly set some values to np.NaN.  \n",
        "You would have to replace these NaNs in later code.  \n",
        "Remember to use test set to get your accuracies and do not overwrite the train sets or the miss sets.  \n",
        "You would be copying to a new numpy array each time and then impute it."
      ]
    },
    {
      "cell_type": "code",
      "metadata": {
        "id": "OS1RfeY7rvfi",
        "colab_type": "code",
        "outputId": "3823468c-4665-4cf6-dbc4-7d0b63224e43",
        "colab": {
          "base_uri": "https://localhost:8080/",
          "height": 350
        }
      },
      "source": [
        "breast = load_breast_cancer()\n",
        "\n",
        "X = breast['data']\n",
        "y = breast['target']\n",
        "\n",
        "np.random.seed(100)\n",
        "p = np.random.permutation(len(X))\n",
        "X, y = X[p], y[p]\n",
        "\n",
        "X_train, y_train = X[:300], y[:300]\n",
        "X_test, y_test = X[300:], y[300:]\n",
        "\n",
        "\n",
        "def imputeData(X, y):\n",
        "  random.seed(42)\n",
        "  X_miss, y_miss = X.copy(), y.copy()\n",
        "  for i in range(5000):\n",
        "    sampleId = random.randint(0, X.shape[0] - 1)\n",
        "    featureId = random.randint(0, X.shape[1] - 1)\n",
        "    X_miss[sampleId][featureId] = np.NaN\n",
        "  return X_miss, y_miss\n",
        "\n",
        "\n",
        "X_miss, y_miss = imputeData(X_train, y_train)\n",
        "\n",
        "print('p.shape', p.shape)\n",
        "print('X_miss', X_miss)\n",
        "print('y_miss', y_miss)\n",
        "print('X_miss.shape', X_miss.shape)\n",
        "print('y_miss.shape', y_miss.shape)"
      ],
      "execution_count": 2,
      "outputs": [
        {
          "output_type": "stream",
          "text": [
            "p.shape (569,)\n",
            "X_miss [[1.791e+01       nan 1.244e+02 ...       nan       nan       nan]\n",
            " [1.434e+01 1.347e+01 9.251e+01 ... 1.087e-01 3.062e-01 6.072e-02]\n",
            " [2.016e+01 1.966e+01 1.311e+02 ... 1.425e-01       nan 5.933e-02]\n",
            " ...\n",
            " [      nan       nan 9.784e+01 ...       nan       nan 9.218e-02]\n",
            " [      nan 2.153e+01 9.741e+01 ... 2.701e-01       nan 1.275e-01]\n",
            " [1.442e+01       nan 9.448e+01 ...       nan       nan 9.353e-02]]\n",
            "y_miss [0 1 0 1 1 1 0 0 0 1 1 0 0 0 1 0 0 1 1 1 1 1 0 0 0 0 1 1 1 1 1 1 1 0 0 1 1\n",
            " 1 1 0 0 1 1 0 1 0 1 1 1 1 0 1 1 0 1 1 1 0 1 1 0 0 1 1 0 1 0 0 1 0 0 1 0 0\n",
            " 1 1 1 0 0 1 1 0 0 0 1 0 0 1 0 1 1 1 1 0 1 0 0 1 0 0 0 0 1 1 1 1 1 1 1 1 0\n",
            " 1 0 1 1 1 0 1 1 1 0 1 1 0 1 1 1 1 1 1 1 1 0 1 1 0 1 1 1 1 0 0 1 1 1 1 0 0\n",
            " 0 1 0 0 0 0 1 0 0 0 1 1 1 1 1 1 1 1 0 0 1 0 1 0 0 1 1 1 1 1 1 1 1 1 1 1 1\n",
            " 0 1 1 0 1 1 0 1 1 1 0 0 1 1 1 1 0 1 1 0 0 1 0 0 0 1 1 1 0 1 1 0 0 0 1 1 1\n",
            " 0 1 1 1 1 1 1 1 1 0 0 0 1 1 0 0 1 1 1 1 0 0 0 0 1 0 0 1 1 0 0 0 1 1 1 0 1\n",
            " 0 1 1 1 1 1 1 1 1 1 0 1 1 0 0 1 1 1 1 1 1 1 1 0 1 1 1 0 1 1 1 1 0 0 0 1 1\n",
            " 0 1 0 0]\n",
            "X_miss.shape (300, 30)\n",
            "y_miss.shape (300,)\n"
          ],
          "name": "stdout"
        }
      ]
    },
    {
      "cell_type": "markdown",
      "metadata": {
        "id": "5g2m1YoFguOQ",
        "colab_type": "text"
      },
      "source": [
        "## 3.1 Zero Imputation  \n",
        "Complete the `zeroImpute` method which takes in the data with missing value and replaces the missing values with zeroes.  \n",
        "Then train a logistic classifier on this imputed data.\n",
        "Report the accuracy on test set (`X_test`) and Frobenius norm of difference between the imputed data (`X_Zero`) and the original data without missing values (`X_train`)."
      ]
    },
    {
      "cell_type": "code",
      "metadata": {
        "id": "hudpTnV5sNAs",
        "colab_type": "code",
        "outputId": "41f6d8e8-12c7-434a-973f-bb6c2f70a849",
        "colab": {
          "base_uri": "https://localhost:8080/",
          "height": 262
        }
      },
      "source": [
        "def zeroImpute(X_miss):\n",
        "  '''\n",
        "  Returns :\n",
        "    X_imputed which has zeroes instead of missing values and same shape as X_miss.\n",
        "  '''\n",
        "  X_imputed = X_miss.copy()\n",
        "  \n",
        "  # TODO 3.1.1 : write code replace missing values with zeroes\n",
        "  X_imputed = np.nan_to_num(X_imputed, nan=0.0)\n",
        "\n",
        "  assert X_imputed.shape == X_miss.shape\n",
        "  \n",
        "  return X_imputed\n",
        "\n",
        "\n",
        "X_zero = zeroImpute(X_miss)\n",
        "print('Frobenius norm for zero imputation is {0}'.format(LA.norm(X_zero - X_train)))\n",
        "\n",
        "# TODO 3.1.2 : write code to train a logistic regression classifier.\n",
        "clf = LogisticRegression(random_state=0, solver='lbfgs', multi_class='ovr').fit(X_zero, y_miss)\n",
        "clf = LogisticRegression(random_state=0, solver='lbfgs', multi_class='ovr', max_iter=2000).fit(X_zero, y_miss)\n",
        "clf2 = LogisticRegression(random_state=0, solver='liblinear', multi_class='ovr', max_iter=2000).fit(X_zero, y_miss)\n",
        "clf3 = LogisticRegression(random_state=0, solver='saga', multi_class='ovr', max_iter=2000).fit(X_zero, y_miss)\n",
        "clf4 = LogisticRegression(random_state=0, solver='sag', multi_class='ovr', max_iter=2000).fit(X_zero, y_miss)\n",
        "clf5 = LogisticRegression(random_state=0, solver='newton-cg', multi_class='ovr', max_iter=2000).fit(X_zero, y_miss)\n",
        "\n",
        "print('Accuracy for zero imputation is {0}%'.format(clf.score(X_test, y_test)*100))\n",
        "print('Accuracy for zero imputation2 is {0}%'.format(clf2.score(X_test, y_test)*100))\n",
        "print('Accuracy for zero imputation3 is {0}%'.format(clf3.score(X_test, y_test)*100))\n",
        "print('Accuracy for zero imputation4 is {0}%'.format(clf4.score(X_test, y_test)*100))\n",
        "print('Accuracy for zero imputation5 is {0}%'.format(clf5.score(X_test, y_test)*100))"
      ],
      "execution_count": 3,
      "outputs": [
        {
          "output_type": "stream",
          "text": [
            "Frobenius norm for zero imputation is 15925.766288536064\n"
          ],
          "name": "stdout"
        },
        {
          "output_type": "stream",
          "text": [
            "/usr/local/lib/python3.6/dist-packages/sklearn/linear_model/logistic.py:947: ConvergenceWarning: lbfgs failed to converge. Increase the number of iterations.\n",
            "  \"of iterations.\", ConvergenceWarning)\n",
            "/usr/local/lib/python3.6/dist-packages/sklearn/linear_model/logistic.py:947: ConvergenceWarning: lbfgs failed to converge. Increase the number of iterations.\n",
            "  \"of iterations.\", ConvergenceWarning)\n",
            "/usr/local/lib/python3.6/dist-packages/sklearn/linear_model/sag.py:337: ConvergenceWarning: The max_iter was reached which means the coef_ did not converge\n",
            "  \"the coef_ did not converge\", ConvergenceWarning)\n",
            "/usr/local/lib/python3.6/dist-packages/sklearn/linear_model/sag.py:337: ConvergenceWarning: The max_iter was reached which means the coef_ did not converge\n",
            "  \"the coef_ did not converge\", ConvergenceWarning)\n"
          ],
          "name": "stderr"
        },
        {
          "output_type": "stream",
          "text": [
            "Accuracy for zero imputation is 47.58364312267658%\n",
            "Accuracy for zero imputation2 is 56.50557620817844%\n",
            "Accuracy for zero imputation3 is 85.50185873605948%\n",
            "Accuracy for zero imputation4 is 85.13011152416357%\n",
            "Accuracy for zero imputation5 is 46.84014869888476%\n"
          ],
          "name": "stdout"
        }
      ]
    },
    {
      "cell_type": "markdown",
      "metadata": {
        "id": "dt-9-TB0gvIt",
        "colab_type": "text"
      },
      "source": [
        "## 3.2 Mean Imputation  \n",
        "Complete the `meanImpute` method which takes in the data with missing value and replaces the missing values with mean for that column (ignoring the NaNs).  \n",
        "Then train a logistic classifier on this imputed data.\n",
        "Report the accuracy on test set (`X_test`) and Frobenius norm of difference between the imputed data (`X_mean`) and the original data without missing values (`X_train`)."
      ]
    },
    {
      "cell_type": "code",
      "metadata": {
        "id": "RUob0gZBArbR",
        "colab_type": "code",
        "outputId": "db0e27ff-318c-48f2-c419-db350618502f",
        "colab": {
          "base_uri": "https://localhost:8080/",
          "height": 105
        }
      },
      "source": [
        "# average test\n",
        "a = np.array([[1,2],[3,4]])\n",
        "aver = np.average(a, axis=0)\n",
        "print(aver)\n",
        "idx = np.array([[0,0], [1,0]])\n",
        "print(idx[:,0])\n",
        "print(a[idx[:,0], idx[:,1]])\n",
        "\n",
        "a[idx[:,0], idx[:,1]] = 999\n",
        "print(a)"
      ],
      "execution_count": 4,
      "outputs": [
        {
          "output_type": "stream",
          "text": [
            "[2. 3.]\n",
            "[0 1]\n",
            "[1 3]\n",
            "[[999   2]\n",
            " [999   4]]\n"
          ],
          "name": "stdout"
        }
      ]
    },
    {
      "cell_type": "code",
      "metadata": {
        "id": "xiXJqDr3Mn8_",
        "colab_type": "code",
        "colab": {}
      },
      "source": [
        "def meanImpute(X_miss):\n",
        "  '''\n",
        "  Returns :\n",
        "    X_imputed which has mean of the corresponding column instead of the missing values and same shape as X_miss.\n",
        "  '''\n",
        "  X_imputed = X_miss.copy()\n",
        "  \n",
        "  # TODO 3.2.1 : write code to replace the value of NaNs with the mean of their column.\n",
        "  X_imputed_zero = np.nan_to_num(X_imputed, nan=0.0)\n",
        "  avg_col = np.nanmean(X_miss, axis=0)\n",
        "  idx_imputed = np.argwhere(X_imputed_zero==0)\n",
        "\n",
        "  X_imputed[idx_imputed[:,0], idx_imputed[:,1]] = avg_col[idx_imputed[:,1]]\n",
        "\n",
        "  assert X_imputed.shape == X_miss.shape\n",
        "\n",
        "  return X_imputed"
      ],
      "execution_count": 0,
      "outputs": []
    },
    {
      "cell_type": "code",
      "metadata": {
        "id": "fFs_M0cdvJOl",
        "colab_type": "code",
        "outputId": "22af42f1-a4b7-432e-cfdc-5b1b902f97e3",
        "colab": {
          "base_uri": "https://localhost:8080/",
          "height": 227
        }
      },
      "source": [
        "X_mean = meanImpute(X_miss)\n",
        "print('Frobenius norm for mean imputation is {0}'.format(LA.norm(X_mean - X_train)))\n",
        "\n",
        "# TODO 3.2.2 : write code to train a logistic regression classifier.\n",
        "\n",
        "# print('Accuracy for mean imputation is {0}%'.format(clf.score(X_test, y_test)*100))\n",
        "\n",
        "clf = LogisticRegression(random_state=0, solver='lbfgs', multi_class='ovr').fit(X_mean, y_miss)\n",
        "clf2 = LogisticRegression(random_state=0, solver='liblinear', multi_class='ovr').fit(X_mean, y_miss)\n",
        "# clf2 = LogisticRegression(random_state=0, solver='liblinear', max_iter=10000).fit(X_mean, y_miss)\n",
        "clf3 = LogisticRegression(random_state=0, solver='saga', multi_class='ovr').fit(X_mean, y_miss)\n",
        "clf4 = LogisticRegression(random_state=0, solver='sag', multi_class='ovr').fit(X_mean, y_miss)\n",
        "clf5 = LogisticRegression(random_state=0, solver='newton-cg', multi_class='ovr').fit(X_mean, y_miss)\n",
        "\n",
        "print('Accuracy for zero imputation is {0}%'.format(clf.score(X_test, y_test)*100))\n",
        "print('Accuracy for zero imputation2 is {0}%'.format(clf2.score(X_test, y_test)*100))\n",
        "print('Accuracy for zero imputation3 is {0}%'.format(clf3.score(X_test, y_test)*100))\n",
        "print('Accuracy for zero imputation4 is {0}%'.format(clf4.score(X_test, y_test)*100))\n",
        "print('Accuracy for zero imputation5 is {0}%'.format(clf5.score(X_test, y_test)*100))"
      ],
      "execution_count": 6,
      "outputs": [
        {
          "output_type": "stream",
          "text": [
            "Frobenius norm for mean imputation is 8851.631662780634\n",
            "Accuracy for zero imputation is 87.73234200743495%\n",
            "Accuracy for zero imputation2 is 90.33457249070632%\n",
            "Accuracy for zero imputation3 is 89.21933085501858%\n",
            "Accuracy for zero imputation4 is 89.21933085501858%\n",
            "Accuracy for zero imputation5 is 94.42379182156134%\n"
          ],
          "name": "stdout"
        },
        {
          "output_type": "stream",
          "text": [
            "/usr/local/lib/python3.6/dist-packages/sklearn/linear_model/logistic.py:947: ConvergenceWarning: lbfgs failed to converge. Increase the number of iterations.\n",
            "  \"of iterations.\", ConvergenceWarning)\n",
            "/usr/local/lib/python3.6/dist-packages/sklearn/linear_model/sag.py:337: ConvergenceWarning: The max_iter was reached which means the coef_ did not converge\n",
            "  \"the coef_ did not converge\", ConvergenceWarning)\n",
            "/usr/local/lib/python3.6/dist-packages/sklearn/linear_model/sag.py:337: ConvergenceWarning: The max_iter was reached which means the coef_ did not converge\n",
            "  \"the coef_ did not converge\", ConvergenceWarning)\n"
          ],
          "name": "stderr"
        }
      ]
    },
    {
      "cell_type": "markdown",
      "metadata": {
        "id": "II5CJJYrgvzL",
        "colab_type": "text"
      },
      "source": [
        "## 3.3 Regression Imputation  \n",
        "Complete the `regressedImpute` method which takes in the data with missing value and replaces the missing values with values predicted by a linear classifier trained on rows which do not have missing data for the given column to predict the values of given column.  \n",
        "It does this by iterating through a columns and replacing the missing data (in a copy) with a different model for each feature.   \n",
        "\n",
        "The method should also train a logistic classifer during the run and store the its accuracy on test set (`X_test`) and the Frobenius norm of difference between the imputed data (`X_imputed`) and the original data without missing values (`X_train`).  \n",
        "  \n",
        "\n",
        "Finally train a logistic classifier on the completely imputed data.\n",
        "Report the accuracy on test set (`X_test`) and Frobenius norm of difference between the imputed data (`X_regressed`) and the original data without missing values (`X_train`).  \n",
        "\n",
        "Repeat the process again with the imputed data to impute it a second time and observe the differences."
      ]
    },
    {
      "cell_type": "code",
      "metadata": {
        "id": "5twmf0J7Jbr2",
        "colab_type": "code",
        "outputId": "488c67fe-35e2-4e16-db74-ff6149f0d44f",
        "colab": {
          "base_uri": "https://localhost:8080/",
          "height": 542
        }
      },
      "source": [
        "# test\n",
        "\n",
        "# delete test\n",
        "X_miss_cp = X_miss.copy()\n",
        "y_miss_cp = y_miss.copy()\n",
        "X_zero = zeroImpute(X_miss_cp)\n",
        "\n",
        "idx = np.argwhere(X_zero==0)\n",
        "idx_row = idx[:,0]\n",
        "idx_row = np.unique(idx_row)\n",
        "\n",
        "X_full = np.delete(X_zero, idx_row, 0)\n",
        "print(idx_row)\n",
        "print(X_zero)\n",
        "print(X_zero.shape)\n",
        "print(X_full.shape)\n",
        "\n",
        "a,b = X_zero.shape\n",
        "print(a, b)\n",
        "\n",
        "# nan test\n",
        "c = np.array([[np.log(-1.), 1, 4], [2, 3, np.log(-1.)]])\n",
        "idx_nan = np.argwhere(np.isnan(c))\n",
        "# idx_nan = np.isnan(c)\n",
        "print(idx_nan)"
      ],
      "execution_count": 7,
      "outputs": [
        {
          "output_type": "stream",
          "text": [
            "[  0   1   2   3   4   5   6   7   8   9  10  11  12  13  14  15  16  17\n",
            "  18  19  20  21  22  23  24  25  26  27  28  29  30  31  32  33  34  35\n",
            "  36  37  38  39  40  41  42  43  44  45  46  47  48  49  50  51  52  53\n",
            "  54  55  56  57  58  59  60  61  62  63  64  65  66  67  68  69  70  71\n",
            "  72  73  74  75  76  77  78  79  80  81  82  83  84  85  86  87  88  89\n",
            "  90  91  92  93  94  95  96  97  98  99 100 101 102 103 104 105 106 107\n",
            " 108 109 110 111 112 113 114 115 116 117 118 119 120 121 122 123 124 125\n",
            " 126 127 128 129 130 131 132 133 134 135 136 137 138 139 140 141 142 143\n",
            " 144 145 146 147 148 149 150 151 152 153 154 155 156 157 158 159 160 161\n",
            " 162 163 164 165 166 167 168 169 170 171 172 173 174 175 176 177 178 179\n",
            " 180 181 182 183 184 185 186 187 188 189 190 191 192 193 194 195 196 197\n",
            " 198 199 200 201 202 203 204 205 206 207 208 209 210 211 212 213 214 215\n",
            " 216 217 218 219 220 221 222 223 224 225 226 227 228 229 230 231 232 233\n",
            " 234 235 236 237 238 239 240 241 242 243 244 245 246 247 248 249 250 251\n",
            " 252 253 254 255 256 257 258 259 260 261 262 263 264 265 266 267 268 269\n",
            " 270 271 272 273 274 275 276 277 278 279 280 281 282 283 284 285 286 287\n",
            " 288 289 290 291 292 293 294 295 296 297 298 299]\n",
            "[[1.791e+01 0.000e+00 1.244e+02 ... 0.000e+00 0.000e+00 0.000e+00]\n",
            " [1.434e+01 1.347e+01 9.251e+01 ... 1.087e-01 3.062e-01 6.072e-02]\n",
            " [2.016e+01 1.966e+01 1.311e+02 ... 1.425e-01 0.000e+00 5.933e-02]\n",
            " ...\n",
            " [0.000e+00 0.000e+00 9.784e+01 ... 0.000e+00 0.000e+00 9.218e-02]\n",
            " [0.000e+00 2.153e+01 9.741e+01 ... 2.701e-01 0.000e+00 1.275e-01]\n",
            " [1.442e+01 0.000e+00 9.448e+01 ... 0.000e+00 0.000e+00 9.353e-02]]\n",
            "(300, 30)\n",
            "(0, 30)\n",
            "300 30\n",
            "[[0 0]\n",
            " [1 2]]\n"
          ],
          "name": "stdout"
        },
        {
          "output_type": "stream",
          "text": [
            "/usr/local/lib/python3.6/dist-packages/ipykernel_launcher.py:19: RuntimeWarning: invalid value encountered in log\n"
          ],
          "name": "stderr"
        }
      ]
    },
    {
      "cell_type": "markdown",
      "metadata": {
        "id": "ktOisLlLNhga",
        "colab_type": "text"
      },
      "source": [
        "（1）若删除所有含nan的行（寻找数据齐全的行），则没有数据，因此先默认nan都用0替代来进行linear regression？\n",
        "\n",
        "（2）逐列迭代， 每次循环以除此列外数据为X， 以此列数据为y（是否除去为nan/0 的y数据？）\n",
        "（3）函数应加入 y_miss 作为输入？"
      ]
    },
    {
      "cell_type": "code",
      "metadata": {
        "id": "6jbK3C0JMoYS",
        "colab_type": "code",
        "colab": {}
      },
      "source": [
        "def regressedImpute(X_baseImputed, X_miss, X_test, y_test, computePerFeatureStatistics = False):\n",
        "  '''\n",
        "  Returns :\n",
        "    X_imputed which has mean of the linearly regressed value instead of the missing values and same shape as X_miss.\n",
        "  if computePerFeatureStatistics is True, also:\n",
        "    list of Frobenius norms of difference between reconstructions and original data (without missing values) calculated after each imputing each column.\n",
        "    list of accuracies on test set of Logistic Regression classifier trained on imputed data after each imputing each column.\n",
        "  '''\n",
        "  X_imputed = X_baseImputed.copy()\n",
        "  frobenius_norms =[]\n",
        "  accuracies =[]\n",
        "  # TODO 3.3.1 \n",
        "  # We do a linear regression based imputation here, for each column, train a classifier to predict its value based on values of other features and\n",
        "  # replace the NaN with the predicted values. \n",
        "  # IMPORTANT : You should not use regressed values from an earlier column to predict a later column, make sure to train the regression model on base imputed\n",
        "  #             and not modify base imputed during the run.\n",
        "  #             You can use X_miss to find which values were originally NaNs.\n",
        "    \n",
        "  X_imputed_cp = X_imputed.copy()\n",
        "  print('X_imputed_cp.SHAPE', X_imputed_cp.shape)\n",
        "  X_miss_cp = X_miss.copy()\n",
        "  num_row, num_col = X_baseImputed.shape\n",
        "  idx_imputed = np.argwhere(np.isnan(X_miss))\n",
        "\n",
        "  for idx_col in range(num_col):\n",
        "      # prepare train data\n",
        "    #   X_partial = np.delete(X_imputed, idx_col, 1)\n",
        "    #   y_partial = X_imputed[:, idx_col]\n",
        "      X_partial = np.delete(X_imputed, idx_col, 1)\n",
        "      y_partial = X_miss_cp[:, idx_col]\n",
        "    #   delete_row = np.argwhere(y_partial==0)\n",
        "      delete_row = np.argwhere(np.isnan(y_partial)==True)\n",
        "      delete_row = np.squeeze(delete_row)\n",
        "    #   print('DELETE ROW', delete_row)\n",
        "      X_partial_train = np.delete(X_partial, delete_row, 0)\n",
        "      y_partial_train = np.delete(y_partial, delete_row, 0)\n",
        "\n",
        "    #   print('X_partial.shape', X_partial.shape)\n",
        "    #   print('y_partial.shape', y_partial.shape)\n",
        "    #   print('X_partial_train.shape', X_partial_train.shape)\n",
        "    #   print('y_partial_train.shape', y_partial_train.shape)\n",
        "    #   print('delete_row.shape', delete_row.shape)\n",
        "    #   print('delete_row', delete_row)\n",
        "\n",
        "      # train model on other columns\n",
        "    #   regr = sklearn.linear_model.ElasticNet(random_state=0).fit(X_partial_train, y_partial_train)\n",
        "    #   print('y_partial_train', y_partial_train)\n",
        "    #   print(X_partial_train)\n",
        "      regr = sklearn.linear_model.LinearRegression().fit(X_partial_train, y_partial_train)\n",
        "\n",
        "      # predict impute value and plug them back\n",
        "      X_toimpute = X_partial[delete_row, :]\n",
        "    #   print('X_toimpute.shape', X_toimpute.shape)\n",
        "    #   print(X_toimpute)\n",
        "    #   print('delete_row', delete_row)\n",
        "      X_imputed_cp[delete_row, idx_col] = regr.predict(X_toimpute)\n",
        "    #   print(\"PREDICTED\", regr.predict(X_toimpute))\n",
        "\n",
        "\n",
        "      if computePerFeatureStatistics == True:\n",
        "          # TODO 3.3.2\n",
        "          # calculate list of Frobenius norms\n",
        "          X_diff = X_imputed_cp - X_train\n",
        "          F_norm = np.linalg.norm(X_diff)\n",
        "          frobenius_norms.append(F_norm)\n",
        "\n",
        "          # calculate list of accuracies\n",
        "          clf = LogisticRegression(random_state=0, solver='lbfgs', multi_class='multinomial').fit(X_imputed_cp, y_train)\n",
        "          acc = clf.score(X_test, y_test)*100\n",
        "          accuracies.append(acc)\n",
        "    #   print('IMPUTED', X_imputed_cp)\n",
        "\n",
        "  X_imputed = X_imputed_cp\n",
        "\n",
        "  if computePerFeatureStatistics == True:\n",
        "    return X_imputed, frobenius_norms, accuracies\n",
        "  else:\n",
        "    return X_imputed\n"
      ],
      "execution_count": 0,
      "outputs": []
    },
    {
      "cell_type": "code",
      "metadata": {
        "id": "hz3OWJ3yD6wz",
        "colab_type": "code",
        "outputId": "d1a8a21a-f9b5-480a-8a4e-533b3b32a99f",
        "colab": {
          "base_uri": "https://localhost:8080/",
          "height": 1000
        }
      },
      "source": [
        "import sklearn\n",
        "\n",
        "norms =[]\n",
        "accuracies = []\n",
        "X_regressed = zeroImpute(X_miss)\n",
        "X_regressed, norms, accuracies = regressedImpute(X_regressed, X_miss, X_test, y_test, True)\n",
        "plt.plot(accuracies)\n",
        "plt.title(\"Accuracy for Regression based imputation vs. #Features\")\n",
        "plt.ylabel('Accuracy')\n",
        "plt.xlabel('Number of features imputed')\n",
        "plt.show()\n",
        "plt.plot(norms)\n",
        "plt.title(\"Norm for Regression based imputation vs. #Features\")\n",
        "plt.ylabel('Norm')\n",
        "plt.xlabel('Number of features imputed')\n",
        "plt.show()\n",
        "\n",
        "\n",
        "epochs = 5\n",
        "norms =[]\n",
        "accuracies = []\n",
        "\n",
        "# TODO 3.3.3  : write code to impute dataset with zeros initially, then train a logistic regression classifier and \n",
        "#   store the norm of difference between the imputed data and the original data without missing values and the accuracy \n",
        "#   of the classifier on the test set in appropriate variables.\n",
        "X_regressed = zeroImpute(X_miss)\n",
        "norm = LA.norm(X_regressed - X_train)\n",
        "\n",
        "clf = LogisticRegression(random_state=0, solver='lbfgs', multi_class='ovr', max_iter=100000).fit(X_regressed, y_train)\n",
        "accuracy = clf.score(X_test, y_test)*100\n",
        "\n",
        "norms.append(norm)\n",
        "accuracies.append(accuracy)\n",
        "print('Frobenius norm and accuracy for regression based imputation after base imputation are {0} and {1}%'.format(norm,accuracy))\n",
        "\n",
        "\n",
        "# Here we show how repeated imputation using regression affect our dataset. For each epoch re-impute the data from previous\n",
        "# epoch.\n",
        "for i in range(epochs):\n",
        "\n",
        "  # TODO 3.3.4 : Same as 3.3.3 but this time impute the data with the regression method you completed.\n",
        "  X_regressed = regressedImpute(X_regressed, X_miss, X_test, y_test, False) \n",
        "  print('Frobenius norm for regress imputation is {0}'.format(LA.norm(X_regressed - X_train)))\n",
        "  norms.append(LA.norm(X_regressed - X_train))\n",
        "\n",
        "  clf = LogisticRegression(random_state=0, solver='saga', multi_class='ovr', max_iter=100000).fit(X_regressed, y_train)\n",
        "\n",
        "  print('Accuracy for regress imputation is {0}%'.format(clf.score(X_regressed, y_train)*100))\n",
        "  accuracies.append(clf.score(X_regressed, y_train)*100)\n",
        "\n",
        "#   norms.append(norm)\n",
        "#   accuracies.append(accuracy)\n",
        "#   print('Frobenius norm and accuracy for regression based imputation for step number {0} are {1} and {2}%'.format(i + 1, norm,accuracy))\n",
        "  \n",
        "plt.plot(accuracies)\n",
        "plt.title(\"Accuracy for Regression based imputation vs. #Epoch\")\n",
        "plt.ylabel('Accuracy')\n",
        "plt.xlabel('Number of Epochs')\n",
        "plt.show()\n",
        "plt.plot(norms)\n",
        "plt.title(\"Norm for Regression based imputation vs. #Epoch\")\n",
        "plt.ylabel('Norm')\n",
        "plt.xlabel('Number of Epochs')\n",
        "plt.show()"
      ],
      "execution_count": 9,
      "outputs": [
        {
          "output_type": "stream",
          "text": [
            "X_imputed_cp.SHAPE (300, 30)\n"
          ],
          "name": "stdout"
        },
        {
          "output_type": "stream",
          "text": [
            "/usr/local/lib/python3.6/dist-packages/sklearn/linear_model/logistic.py:947: ConvergenceWarning: lbfgs failed to converge. Increase the number of iterations.\n",
            "  \"of iterations.\", ConvergenceWarning)\n",
            "/usr/local/lib/python3.6/dist-packages/sklearn/linear_model/logistic.py:947: ConvergenceWarning: lbfgs failed to converge. Increase the number of iterations.\n",
            "  \"of iterations.\", ConvergenceWarning)\n",
            "/usr/local/lib/python3.6/dist-packages/sklearn/linear_model/logistic.py:947: ConvergenceWarning: lbfgs failed to converge. Increase the number of iterations.\n",
            "  \"of iterations.\", ConvergenceWarning)\n",
            "/usr/local/lib/python3.6/dist-packages/sklearn/linear_model/logistic.py:947: ConvergenceWarning: lbfgs failed to converge. Increase the number of iterations.\n",
            "  \"of iterations.\", ConvergenceWarning)\n",
            "/usr/local/lib/python3.6/dist-packages/sklearn/linear_model/logistic.py:947: ConvergenceWarning: lbfgs failed to converge. Increase the number of iterations.\n",
            "  \"of iterations.\", ConvergenceWarning)\n",
            "/usr/local/lib/python3.6/dist-packages/sklearn/linear_model/logistic.py:947: ConvergenceWarning: lbfgs failed to converge. Increase the number of iterations.\n",
            "  \"of iterations.\", ConvergenceWarning)\n",
            "/usr/local/lib/python3.6/dist-packages/sklearn/linear_model/logistic.py:947: ConvergenceWarning: lbfgs failed to converge. Increase the number of iterations.\n",
            "  \"of iterations.\", ConvergenceWarning)\n",
            "/usr/local/lib/python3.6/dist-packages/sklearn/linear_model/logistic.py:947: ConvergenceWarning: lbfgs failed to converge. Increase the number of iterations.\n",
            "  \"of iterations.\", ConvergenceWarning)\n",
            "/usr/local/lib/python3.6/dist-packages/sklearn/linear_model/logistic.py:947: ConvergenceWarning: lbfgs failed to converge. Increase the number of iterations.\n",
            "  \"of iterations.\", ConvergenceWarning)\n",
            "/usr/local/lib/python3.6/dist-packages/sklearn/linear_model/logistic.py:947: ConvergenceWarning: lbfgs failed to converge. Increase the number of iterations.\n",
            "  \"of iterations.\", ConvergenceWarning)\n",
            "/usr/local/lib/python3.6/dist-packages/sklearn/linear_model/logistic.py:947: ConvergenceWarning: lbfgs failed to converge. Increase the number of iterations.\n",
            "  \"of iterations.\", ConvergenceWarning)\n",
            "/usr/local/lib/python3.6/dist-packages/sklearn/linear_model/logistic.py:947: ConvergenceWarning: lbfgs failed to converge. Increase the number of iterations.\n",
            "  \"of iterations.\", ConvergenceWarning)\n",
            "/usr/local/lib/python3.6/dist-packages/sklearn/linear_model/logistic.py:947: ConvergenceWarning: lbfgs failed to converge. Increase the number of iterations.\n",
            "  \"of iterations.\", ConvergenceWarning)\n",
            "/usr/local/lib/python3.6/dist-packages/sklearn/linear_model/logistic.py:947: ConvergenceWarning: lbfgs failed to converge. Increase the number of iterations.\n",
            "  \"of iterations.\", ConvergenceWarning)\n",
            "/usr/local/lib/python3.6/dist-packages/sklearn/linear_model/logistic.py:947: ConvergenceWarning: lbfgs failed to converge. Increase the number of iterations.\n",
            "  \"of iterations.\", ConvergenceWarning)\n",
            "/usr/local/lib/python3.6/dist-packages/sklearn/linear_model/logistic.py:947: ConvergenceWarning: lbfgs failed to converge. Increase the number of iterations.\n",
            "  \"of iterations.\", ConvergenceWarning)\n",
            "/usr/local/lib/python3.6/dist-packages/sklearn/linear_model/logistic.py:947: ConvergenceWarning: lbfgs failed to converge. Increase the number of iterations.\n",
            "  \"of iterations.\", ConvergenceWarning)\n",
            "/usr/local/lib/python3.6/dist-packages/sklearn/linear_model/logistic.py:947: ConvergenceWarning: lbfgs failed to converge. Increase the number of iterations.\n",
            "  \"of iterations.\", ConvergenceWarning)\n",
            "/usr/local/lib/python3.6/dist-packages/sklearn/linear_model/logistic.py:947: ConvergenceWarning: lbfgs failed to converge. Increase the number of iterations.\n",
            "  \"of iterations.\", ConvergenceWarning)\n",
            "/usr/local/lib/python3.6/dist-packages/sklearn/linear_model/logistic.py:947: ConvergenceWarning: lbfgs failed to converge. Increase the number of iterations.\n",
            "  \"of iterations.\", ConvergenceWarning)\n",
            "/usr/local/lib/python3.6/dist-packages/sklearn/linear_model/logistic.py:947: ConvergenceWarning: lbfgs failed to converge. Increase the number of iterations.\n",
            "  \"of iterations.\", ConvergenceWarning)\n",
            "/usr/local/lib/python3.6/dist-packages/sklearn/linear_model/logistic.py:947: ConvergenceWarning: lbfgs failed to converge. Increase the number of iterations.\n",
            "  \"of iterations.\", ConvergenceWarning)\n",
            "/usr/local/lib/python3.6/dist-packages/sklearn/linear_model/logistic.py:947: ConvergenceWarning: lbfgs failed to converge. Increase the number of iterations.\n",
            "  \"of iterations.\", ConvergenceWarning)\n",
            "/usr/local/lib/python3.6/dist-packages/sklearn/linear_model/logistic.py:947: ConvergenceWarning: lbfgs failed to converge. Increase the number of iterations.\n",
            "  \"of iterations.\", ConvergenceWarning)\n",
            "/usr/local/lib/python3.6/dist-packages/sklearn/linear_model/logistic.py:947: ConvergenceWarning: lbfgs failed to converge. Increase the number of iterations.\n",
            "  \"of iterations.\", ConvergenceWarning)\n",
            "/usr/local/lib/python3.6/dist-packages/sklearn/linear_model/logistic.py:947: ConvergenceWarning: lbfgs failed to converge. Increase the number of iterations.\n",
            "  \"of iterations.\", ConvergenceWarning)\n",
            "/usr/local/lib/python3.6/dist-packages/sklearn/linear_model/logistic.py:947: ConvergenceWarning: lbfgs failed to converge. Increase the number of iterations.\n",
            "  \"of iterations.\", ConvergenceWarning)\n",
            "/usr/local/lib/python3.6/dist-packages/sklearn/linear_model/logistic.py:947: ConvergenceWarning: lbfgs failed to converge. Increase the number of iterations.\n",
            "  \"of iterations.\", ConvergenceWarning)\n",
            "/usr/local/lib/python3.6/dist-packages/sklearn/linear_model/logistic.py:947: ConvergenceWarning: lbfgs failed to converge. Increase the number of iterations.\n",
            "  \"of iterations.\", ConvergenceWarning)\n",
            "/usr/local/lib/python3.6/dist-packages/sklearn/linear_model/logistic.py:947: ConvergenceWarning: lbfgs failed to converge. Increase the number of iterations.\n",
            "  \"of iterations.\", ConvergenceWarning)\n"
          ],
          "name": "stderr"
        },
        {
          "output_type": "display_data",
          "data": {
            "image/png": "[encoded data removed]",
            "text/plain": [
              "<Figure size 432x288 with 1 Axes>"
            ]
          },
          "metadata": {
            "tags": []
          }
        },
        {
          "output_type": "display_data",
          "data": {
            "image/png": "[encoded data removed]",
            "text/plain": [
              "<Figure size 432x288 with 1 Axes>"
            ]
          },
          "metadata": {
            "tags": []
          }
        },
        {
          "output_type": "stream",
          "text": [
            "Frobenius norm and accuracy for regression based imputation after base imputation are 15925.766288536064 and 46.84014869888476%\n",
            "X_imputed_cp.SHAPE (300, 30)\n",
            "Frobenius norm for regress imputation is 6240.44789920822\n",
            "Accuracy for regress imputation is 84.66666666666667%\n",
            "X_imputed_cp.SHAPE (300, 30)\n",
            "Frobenius norm for regress imputation is 4077.936079003124\n",
            "Accuracy for regress imputation is 87.66666666666667%\n",
            "X_imputed_cp.SHAPE (300, 30)\n",
            "Frobenius norm for regress imputation is 3583.016052473237\n",
            "Accuracy for regress imputation is 87.0%\n",
            "X_imputed_cp.SHAPE (300, 30)\n",
            "Frobenius norm for regress imputation is 3023.485833477984\n",
            "Accuracy for regress imputation is 89.66666666666666%\n",
            "X_imputed_cp.SHAPE (300, 30)\n",
            "Frobenius norm for regress imputation is 3122.4011069371054\n",
            "Accuracy for regress imputation is 89.33333333333333%\n"
          ],
          "name": "stdout"
        },
        {
          "output_type": "display_data",
          "data": {
            "image/png": "[encoded data removed]",
            "text/plain": [
              "<Figure size 432x288 with 1 Axes>"
            ]
          },
          "metadata": {
            "tags": []
          }
        },
        {
          "output_type": "display_data",
          "data": {
            "image/png": "[encoded data removed]",
            "text/plain": [
              "<Figure size 432x288 with 1 Axes>"
            ]
          },
          "metadata": {
            "tags": []
          }
        }
      ]
    },
    {
      "cell_type": "markdown",
      "metadata": {
        "id": "6_gLVUn8gAIU",
        "colab_type": "text"
      },
      "source": [
        "## Question 4: K-means"
      ]
    },
    {
      "cell_type": "markdown",
      "metadata": {
        "id": "Qv19AjV5gAIV",
        "colab_type": "text"
      },
      "source": [
        "We will implement the k-means clustering algorithm using the Breast Cancer dataset. As with all unsupervised learning problems, our goal is to discover and describe some hidden structure in unlabeled data. The K-means algorithm, in particular, attempts to determine how to separate the data into <em>k</em> distinct groups over a set of features ***given that there are k groups***.\n",
        "\n",
        "Knowing there are <em>k</em> distinct 'classes' however, doesn't tell anything about the content/properties within each class. If we could find samples that were representative of each of the *k* groups, then we could label the rest of the data based on how similar they are to each of the prototypical samples. Armed with this intuition, we can better understand the iterative k-means clustering process which will be used to find these representative samples (prototypes).\n",
        "\n",
        "We can define such prototypes using the following metrics:\n",
        "- centroid – the average of similar points w.r.t. continuous features (e.g. petal lengths in the iris dataset)\n",
        "- medioid – the most representative/most frequently occurring point w.r.t. categorical features (e.g. discrete color labels, blue vs. red vs. green.)"
      ]
    },
    {
      "cell_type": "markdown",
      "metadata": {
        "id": "uTQKopObgAIV",
        "colab_type": "text"
      },
      "source": [
        "### Import the Data ###"
      ]
    },
    {
      "cell_type": "code",
      "metadata": {
        "id": "aJQxFSkxyyXz",
        "colab_type": "code",
        "colab": {}
      },
      "source": [
        "import numpy as np\n",
        "from sklearn.decomposition import PCA\n",
        "from sklearn import preprocessing\n",
        "import matplotlib.pyplot as plt\n",
        "from scipy.spatial import distance\n",
        "import random"
      ],
      "execution_count": 0,
      "outputs": []
    },
    {
      "cell_type": "code",
      "metadata": {
        "id": "NBlxFn4ZgAIW",
        "colab_type": "code",
        "colab": {}
      },
      "source": [
        "# Read data (Breast Cancer Dataset). Remember to comment out the code not contained in a function.\n",
        "from sklearn.datasets import load_breast_cancer\n",
        "\n",
        "breast = load_breast_cancer()\n",
        "\n",
        "X = breast['data']\n",
        "y = breast['target']\n",
        "\n",
        "np.random.seed(100)\n",
        "p = np.random.permutation(len(X))\n",
        "X, y = X[p], y[p]\n",
        "\n",
        "X_train, y_train = X[:400], y[:400]\n",
        "X_val, y_val = X[400:500], y[400:500]\n",
        "X_test, y_test = X[500:], y[500:]"
      ],
      "execution_count": 0,
      "outputs": []
    },
    {
      "cell_type": "markdown",
      "metadata": {
        "id": "FlSY34oigAIX",
        "colab_type": "text"
      },
      "source": [
        "### K-means algorithm\n",
        "\n",
        "To implement K-means, we divided the algorithm into two functions: a helper method **kmeans_iter()** to update the centroid values and clusters at each interval, and **kmeans()** to run the helper function<br>  \n",
        "<br>\n",
        "The K-means process you should follow is listed below:\n",
        "1. Initialize each centroid to a random datapoint\n",
        "2. Update each node's cluster to that whose *centroid* is closest\n",
        "3. Calculate the new *centroid* of each cluster\n",
        "4. Repeat the previous 2 steps until no centroid value changes\n",
        "\n",
        "\n",
        "*Hint: you can use the `distance.euclidean(a, b)`   function from scipy to calculate the euclidean distances between lists.*\n",
        "\n",
        "If the **kmeans_iter()** function returns less than k centroids, let the updated centroid value of the empty cluster be the same as it was at the beginning of the iteration."
      ]
    },
    {
      "cell_type": "markdown",
      "metadata": {
        "id": "SEYRrsYm2bt1",
        "colab_type": "text"
      },
      "source": [
        "### 4.1 `kmeans_iter` function\n",
        "\n"
      ]
    },
    {
      "cell_type": "code",
      "metadata": {
        "id": "PCzpaKuyAM6o",
        "colab_type": "code",
        "outputId": "0cb6026a-947d-4d3a-f14e-c15d41283012",
        "colab": {
          "base_uri": "https://localhost:8080/",
          "height": 35
        }
      },
      "source": [
        "# test\n",
        "a = [0] * 5\n",
        "print(a)"
      ],
      "execution_count": 12,
      "outputs": [
        {
          "output_type": "stream",
          "text": [
            "[0, 0, 0, 0, 0]\n"
          ],
          "name": "stdout"
        }
      ]
    },
    {
      "cell_type": "code",
      "metadata": {
        "id": "cXDhQs7igAIY",
        "colab_type": "code",
        "colab": {}
      },
      "source": [
        "def kmeans_iter(X, centroids):\n",
        "    \"\"\"\n",
        "    Performs one iteration of the k-means clustering algorithm.\n",
        "    \n",
        "    INPUT:\n",
        "      X - m by n matrix, where m is the number of training points\n",
        "      centroids - a list of the centroid values\n",
        "    \n",
        "    OUTPUT:\n",
        "      clusters - an updated list of the list of indices in X for each cluster \n",
        "      updated_centroids - an updated list of the new centroid values\n",
        "    \"\"\"\n",
        "    \n",
        "    clusters = [0] * len(X)\n",
        "    # print('X[0]', X[0])\n",
        "    updated_centroids = [[0 for _ in range(len(X[0]))] for _ in range(len(centroids))]\n",
        "    # print('updated_centroids', updated_centroids)\n",
        "    n_in_cluster = [0] * len(centroids)\n",
        "   \n",
        "    # TODO 4.1.1 your code here\n",
        "\n",
        "    # change to np array\n",
        "    X_ary = np.asarray(X).astype(float)\n",
        "    centroids_ary = np.asarray(centroids).astype(float)\n",
        "\n",
        "    clusters_ary = np.asarray(clusters).astype(float)\n",
        "    updated_centroids_ary = np.asarray(updated_centroids).astype(float)\n",
        "    n_in_cluster_ary = np.asarray(n_in_cluster).astype(float)\n",
        "    # print('X[0]-centroids[0]', X_ary[0]-centroids_ary[0])\n",
        "\n",
        "    # update clusters (E step)\n",
        "    num_class = centroids_ary.shape[0]\n",
        "    # print('num_class', num_class)\n",
        "    norm = np.empty([X_ary.shape[0], 1])\n",
        "    for i in range(num_class):\n",
        "        norm_i = np.linalg.norm(X_ary-centroids_ary[i], ord=2, axis=1)\n",
        "        norm_i = norm_i[:, np.newaxis]\n",
        "        # norm = np.concatenate((norm, norm_i), axis=1)\n",
        "        if i==0:\n",
        "            norm = norm_i\n",
        "        else:\n",
        "            norm = np.concatenate((norm, norm_i), axis=1)\n",
        "    # print('norm', norm)\n",
        "    clusters_ary = np.argmin(norm, axis=-1)\n",
        "    # print('clusters_ary', clusters_ary)\n",
        "\n",
        "    # update centroids (M step)\n",
        "    for i in range(num_class):\n",
        "        idx_class_i = np.argwhere(clusters_ary==i).squeeze()\n",
        "        # print('idx_class_i', idx_class_i)\n",
        "        class_i = X_ary[idx_class_i]\n",
        "        # print('class_i', class_i)\n",
        "        if class_i.size:\n",
        "            # print('NOT EMPTY')\n",
        "            updated_centroids_ary[i, :] = np.average(class_i, axis=0)\n",
        "            # print('updated_centroids_ary[i, :]', updated_centroids_ary[i, :])\n",
        "        else:\n",
        "            updated_centroids_ary[i, :] = centroids_ary[i]\n",
        "            # print('EMPTY')\n",
        "            # print('updated_centroids_ary[i, :]', updated_centroids_ary[i, :])\n",
        "        \n",
        "    # print('centroids_ary', centroids_ary)\n",
        "    # print('updated_centroids_ary', updated_centroids_ary)\n",
        "    clusters = np.ndarray.tolist(clusters_ary)\n",
        "    updated_centroids = np.ndarray.tolist(updated_centroids_ary)\n",
        "    return (clusters, updated_centroids)\n",
        "    # return (clusters_ary, updated_centroids_ary)\n",
        "    "
      ],
      "execution_count": 0,
      "outputs": []
    },
    {
      "cell_type": "code",
      "metadata": {
        "id": "bdN6p_CD2vPw",
        "colab_type": "code",
        "outputId": "2fa49825-c395-4049-b89e-9fdd0ef08a3f",
        "colab": {
          "base_uri": "https://localhost:8080/",
          "height": 87
        }
      },
      "source": [
        "### 4.1.1: check kmeans_iter and paste your results into your Latex document.\n",
        "\n",
        "X1 = [[1], [2], [10], [12]]\n",
        "# print('X1[0]', X1[0])\n",
        "\n",
        "init1 = [1,2]\n",
        "init2 = [1,8]\n",
        "init3 = [2,2]\n",
        "\n",
        "X2 = [[0,5,0],[0,5,0],[0,4,3],[0,3,4]]\n",
        "\n",
        "init4 = [[2.5,0,0],[-2.5,0,0]]\n",
        "\n",
        "print(kmeans_iter(X1, init1))\n",
        "print(kmeans_iter(X1, init2))\n",
        "print(kmeans_iter(X1, init3))\n",
        "print(kmeans_iter(X2, init4))"
      ],
      "execution_count": 14,
      "outputs": [
        {
          "output_type": "stream",
          "text": [
            "([0, 1, 1, 1], [[1.0], [8.0]])\n",
            "([0, 0, 1, 1], [[1.5], [11.0]])\n",
            "([0, 0, 0, 0], [[6.25], [2.0]])\n",
            "([0, 0, 0, 0], [[0.0, 4.25, 1.75], [-2.5, 0.0, 0.0]])\n"
          ],
          "name": "stdout"
        }
      ]
    },
    {
      "cell_type": "markdown",
      "metadata": {
        "id": "U-Q9YE2M3Ao7",
        "colab_type": "text"
      },
      "source": [
        "#### Question 4.1.2\n",
        "\n",
        "If an iteration of the k-means algorithm returns less than K classes, what might that indicate about the data? Write your response in your Latex document."
      ]
    },
    {
      "cell_type": "markdown",
      "metadata": {
        "id": "2c7nv7mB3WX7",
        "colab_type": "text"
      },
      "source": [
        "### 4.2 Putting the algorithm together"
      ]
    },
    {
      "cell_type": "code",
      "metadata": {
        "id": "OXt6rHOqeQ86",
        "colab_type": "code",
        "outputId": "3db487ac-62bc-46ae-8a9c-ded9916c87cc",
        "colab": {
          "base_uri": "https://localhost:8080/",
          "height": 70
        }
      },
      "source": [
        "# test\n",
        "\n",
        "prev_centroids = None  \n",
        "a = np.asarray(prev_centroids).astype(float)\n",
        "\n",
        "print(a)\n",
        "\n",
        "# [1,2] != [1,2]\n",
        "print([1,2] != [1,2])\n",
        "print((np.asarray([1,2]) - np.asarray([1,2])).any())"
      ],
      "execution_count": 15,
      "outputs": [
        {
          "output_type": "stream",
          "text": [
            "nan\n",
            "False\n",
            "False\n"
          ],
          "name": "stdout"
        }
      ]
    },
    {
      "cell_type": "code",
      "metadata": {
        "id": "WAbU0m-2gAIa",
        "colab_type": "code",
        "colab": {}
      },
      "source": [
        "def kmeans(X, k):\n",
        "    \"\"\"\n",
        "    Performs k-means clustering by calling kmeans_iter until no centroid value changes.\n",
        "    \n",
        "    INPUT:\n",
        "      X - m by n matrix, where m is the number of training points\n",
        "      k - the number of clusters\n",
        "\n",
        "    OUTPUT:\n",
        "      clusters - a list of the list of indices in X for each cluster \n",
        "      centroids - a list of the centroid values for each cluster\n",
        "      iters - the number of iterations it took for k-means to converge\n",
        "    \"\"\"\n",
        "    \n",
        "    # Do not change random seed for consistency of plots when grading\n",
        "    random.seed(520)\n",
        "    centroid_init = random.sample(range(0,len(X)), k)\n",
        "    centroids = [X[centroid_init[i]] for i in range(k)] \n",
        "    prev_centroids = None    \n",
        "    iters = 0\n",
        "    \n",
        "    # TODO 4.1 your code here\n",
        "\n",
        "    # # from list to np array\n",
        "    # X_ary = np.asarray(X).astype(float)\n",
        "    # centroids_ary = np.asarray(centroids).astype(float)\n",
        "    # prev_centroids_ary = np.asarray(prev_centroids).astype(float)\n",
        "\n",
        "    # (clusters, updated_centroids) = kmeans_iter(X, centroids)\n",
        "\n",
        "    # print(centroids != prev_centroids)\n",
        "\n",
        "    # while (np.asarray(centroids) - np.asarray(prev_centroids)).any():\n",
        "    # while np.any(np.asarray(centroids) - np.asarray(prev_centroids)):\n",
        "    # while (centroids != prev_centroids):\n",
        "    while True:\n",
        "        (clusters, updated_centroids) = kmeans_iter(X, centroids)\n",
        "        prev_centroids = centroids\n",
        "        centroids = updated_centroids\n",
        "        iters += 1\n",
        "        if (np.all(np.asarray(centroids) == np.asarray(prev_centroids))):\n",
        "            break;\n",
        "\n",
        "        \n",
        "    return (clusters, centroids, iters)"
      ],
      "execution_count": 0,
      "outputs": []
    },
    {
      "cell_type": "markdown",
      "metadata": {
        "id": "SA1VmTMixjMN",
        "colab_type": "text"
      },
      "source": [
        "#### 4.2.1 Sanity Check\n",
        "Run the code below to make sure your kmeans function is partitioning the data correctly. The points are projected into two demensions using the first 2 PCA components. You should see a clear split between your clusters. Submit these graphs in your writeup under section 4.2.1."
      ]
    },
    {
      "cell_type": "code",
      "metadata": {
        "id": "6JR7I3fgxqBC",
        "colab_type": "code",
        "outputId": "1c3f0c76-e474-4f1f-af0c-de681740dea7",
        "colab": {
          "base_uri": "https://localhost:8080/",
          "height": 861
        }
      },
      "source": [
        "pca = PCA(n_components = 2)\n",
        "v = pca.fit(np.transpose(X)).components_\n",
        "\n",
        "for k in [2,4,20]:\n",
        "    (clusters, centroids, iters) = kmeans(X,k)\n",
        "    print(iters)\n",
        "    plt.scatter(v[0], v[1], c=clusters, s= 20)\n",
        "    plt.title(\"Breast Cancer Clusters (k = \"+str(k) + \")\")\n",
        "    plt.show()"
      ],
      "execution_count": 17,
      "outputs": [
        {
          "output_type": "stream",
          "text": [
            "9\n"
          ],
          "name": "stdout"
        },
        {
          "output_type": "display_data",
          "data": {
            "image/png": "[encoded data removed]",
            "text/plain": [
              "<Figure size 432x288 with 1 Axes>"
            ]
          },
          "metadata": {
            "tags": []
          }
        },
        {
          "output_type": "stream",
          "text": [
            "23\n"
          ],
          "name": "stdout"
        },
        {
          "output_type": "display_data",
          "data": {
            "image/png": "[encoded data removed]",
            "text/plain": [
              "<Figure size 432x288 with 1 Axes>"
            ]
          },
          "metadata": {
            "tags": []
          }
        },
        {
          "output_type": "stream",
          "text": [
            "20\n"
          ],
          "name": "stdout"
        },
        {
          "output_type": "display_data",
          "data": {
            "image/png": "[encoded data removed]",
            "text/plain": [
              "<Figure size 432x288 with 1 Axes>"
            ]
          },
          "metadata": {
            "tags": []
          }
        }
      ]
    },
    {
      "cell_type": "markdown",
      "metadata": {
        "id": "JhenJRUc8IdO",
        "colab_type": "text"
      },
      "source": [
        "#### Question 4.2.2\n",
        "\n",
        "Write down how many iterations it took for your kmeans to converge for each of the sanity-check graphs. How does this number compare with what you expected it to be? How does the number of iterations seem to vary proportional to k?"
      ]
    },
    {
      "cell_type": "markdown",
      "metadata": {
        "id": "KiIbsCNagAIb",
        "colab_type": "text"
      },
      "source": [
        "## 4.3 Choosing a Value for K\n",
        "\n",
        "Now that we can separate our data into K groups, we just need to figure out the best value for K (how many clusters our data really consists of)."
      ]
    },
    {
      "cell_type": "markdown",
      "metadata": {
        "id": "aFjowvzBgAIc",
        "colab_type": "text"
      },
      "source": [
        "## Testing Cluster Distortion \n",
        "\n",
        "One way to decide on a value for K is to run K-Means and plot the distortion (sum of squared error given Euclidean distance). From that we can find the \"elbow of the graph;\" indicating the best tradeoff between number of clusters and distortion.\n",
        "\n",
        "In the function **test_cluster_size**,  iterate over possible cluster sizes from 2 to a *max_cluster* (inclusive) value. For each *k*, run K-means and calculate its distortion."
      ]
    },
    {
      "cell_type": "code",
      "metadata": {
        "id": "s1reo7bfgAIc",
        "colab_type": "code",
        "colab": {}
      },
      "source": [
        "def test_cluster_size(X, max_k):\n",
        "    \"\"\"\n",
        "    Iterates over possible cluster from 2 to max_k, running k-means and calulating distortion.\n",
        "    \n",
        "    INPUT:\n",
        "      X - m by n matrix, where m is the number of training points\n",
        "      max_k - the maximum number of clusters to consider\n",
        "    \n",
        "    OUTPUT:\n",
        "      scores - a list of scores, where score[i] is the distortion for k-means with i clusters\n",
        "    \"\"\"\n",
        "    scores = [0] * (max_k-1)\n",
        "    # print('scores', scores)\n",
        "    \n",
        "    # TODO 4.3 your code here\n",
        "    X_ary = np.asarray(X).astype(float)\n",
        "\n",
        "    for k in range(2, max_k+1):\n",
        "        (clusters, centroids, iters) = kmeans(X,k)\n",
        "\n",
        "        \n",
        "        clusters_ary = np.asarray(clusters).astype(float)\n",
        "        centroids_ary = np.asarray(centroids).astype(float)\n",
        "        # print('X.shape', X.shape)\n",
        "        # print('clusters_ary.shape', clusters_ary.shape)\n",
        "        # print('centroids_ary.shape', centroids_ary.shape)\n",
        "\n",
        "        num_class = centroids_ary.shape[0]\n",
        "        \n",
        "        distortion = 0\n",
        "        for i in range(num_class):\n",
        "            idx_class = np.argwhere(clusters_ary==i).squeeze()\n",
        "            X_inclass = X_ary[idx_class]\n",
        "            # print('idx_class.shape', idx_class.shape)\n",
        "            # print('X_inclass.shape', X_inclass.shape)\n",
        "            distortion_i = np.sum(np.linalg.norm(X_inclass-centroids_ary[i], ord=2, axis=1)**2)\n",
        "            # print('distortion_i', distortion_i)\n",
        "            distortion += distortion_i\n",
        "\n",
        "        # print('k', k, 'distortion', distortion)\n",
        "        scores[k-2] = distortion\n",
        "\n",
        "    \n",
        "    return scores"
      ],
      "execution_count": 0,
      "outputs": []
    },
    {
      "cell_type": "markdown",
      "metadata": {
        "id": "kMC16N7LgAIe",
        "colab_type": "text"
      },
      "source": [
        "### Distortion Plot\n",
        "Run the code below to plot the distortion as *k* increases from (2 to 25). Record your graph in your writeup along with the value of K you would choose."
      ]
    },
    {
      "cell_type": "code",
      "metadata": {
        "id": "j7htmrE5gAIe",
        "colab_type": "code",
        "outputId": "20a3681f-4497-48aa-d34f-f0619637e6de",
        "colab": {
          "base_uri": "https://localhost:8080/",
          "height": 295
        }
      },
      "source": [
        "max_k = 30  # roig:25\n",
        "\n",
        "scores = test_cluster_size(X, max_k)\n",
        "# print('scores', len(scores))\n",
        "# print('scores', scores)\n",
        "\n",
        "plt.plot(range(max_k-1), scores, label='distortion')\n",
        "plt.legend(bbox_to_anchor=(1.05, 1), loc='upper left', borderaxespad=0.)\n",
        "plt.title('K-Means Distortion with K ranging from 2-25')\n",
        "plt.ylabel('Distortion')\n",
        "plt.xlabel('K Value')\n",
        "plt.xticks(range(max_k-1), range(2,max_k+1))\n",
        "plt.show()"
      ],
      "execution_count": 19,
      "outputs": [
        {
          "output_type": "display_data",
          "data": {
            "image/png": "[encoded data removed]",
            "text/plain": [
              "<Figure size 432x288 with 1 Axes>"
            ]
          },
          "metadata": {
            "tags": []
          }
        }
      ]
    },
    {
      "cell_type": "markdown",
      "metadata": {
        "id": "GgWvP5_UgAIh",
        "colab_type": "text"
      },
      "source": [
        "### Feature Scaling Using min-max\n",
        "Given an input matrix X, we can rescale each feature along its min/max value range, as follows:"
      ]
    },
    {
      "cell_type": "code",
      "metadata": {
        "id": "PXycI26ygAIh",
        "colab_type": "code",
        "colab": {}
      },
      "source": [
        "X_copy = X.copy()\n",
        "min_max_scaler = preprocessing.MinMaxScaler()\n",
        "X_scaled = min_max_scaler.fit_transform(X_copy)"
      ],
      "execution_count": 0,
      "outputs": []
    },
    {
      "cell_type": "markdown",
      "metadata": {
        "id": "wPLP0_K_gAIj",
        "colab_type": "text"
      },
      "source": [
        "Now plot the distortion as *k* increases from (2 to 25). Record your graph in your writeup along with the value of K you would choose"
      ]
    },
    {
      "cell_type": "code",
      "metadata": {
        "id": "xri0CAcZgAIk",
        "colab_type": "code",
        "outputId": "e52a4bad-3e58-44ef-c497-04b531077bc2",
        "colab": {
          "base_uri": "https://localhost:8080/",
          "height": 295
        }
      },
      "source": [
        "max_k = 25\n",
        "scores = test_cluster_size(X_scaled, max_k)\n",
        "\n",
        "plt.plot(range(max_k-1), scores, label='distortion')\n",
        "plt.legend(bbox_to_anchor=(1.05, 1), loc='upper left', borderaxespad=0.)\n",
        "plt.title('K-Means Min-Max Scaled Distortion with K ranging from 2-25')\n",
        "plt.ylabel('Distortion')\n",
        "plt.xlabel('K Value')\n",
        "plt.xticks(range(max_k-1), range(2,max_k+1))\n",
        "plt.show()"
      ],
      "execution_count": 21,
      "outputs": [
        {
          "output_type": "display_data",
          "data": {
            "image/png": "[encoded data removed]",
            "text/plain": [
              "<Figure size 432x288 with 1 Axes>"
            ]
          },
          "metadata": {
            "tags": []
          }
        }
      ]
    },
    {
      "cell_type": "markdown",
      "metadata": {
        "id": "sztEDotzgAIl",
        "colab_type": "text"
      },
      "source": [
        "### Log Scaling\n",
        "As an alternative,  try adding 1 to all elements in the original matrix and then take the numpy log of all elements in the original matrix. This is the NLP-inspired version, since word frequencies are informative but follow a Zipfian distribution. Call this matrix X_log.\n",
        "\n",
        "Again, plot the number of clusters (from 2 to 25) vs distortion. Find the “elbow” after which the change in distortion tapers off notably."
      ]
    },
    {
      "cell_type": "code",
      "metadata": {
        "id": "AZMOHBPTGBgo",
        "colab_type": "code",
        "outputId": "5a0e7b76-3389-4e65-9d16-f8d2d622a3e7",
        "colab": {
          "base_uri": "https://localhost:8080/",
          "height": 52
        }
      },
      "source": [
        "a = np.array([[np.e,np.e**2], [np.e**3,np.e**7]])\n",
        "b = np.log(a)\n",
        "print(b)"
      ],
      "execution_count": 22,
      "outputs": [
        {
          "output_type": "stream",
          "text": [
            "[[1. 2.]\n",
            " [3. 7.]]\n"
          ],
          "name": "stdout"
        }
      ]
    },
    {
      "cell_type": "code",
      "metadata": {
        "id": "cB8DVYKLgAIm",
        "colab_type": "code",
        "outputId": "6a00e3d5-ab26-4e5d-842d-a139bcfe50f3",
        "colab": {
          "base_uri": "https://localhost:8080/",
          "height": 295
        }
      },
      "source": [
        "def logarithmize(x):\n",
        "    # TODO \n",
        "    x = x+1\n",
        "    x = np.log(x)\n",
        "    return x\n",
        "\n",
        "logarithmize_v=np.vectorize(logarithmize)\n",
        "X_copy2 = X.copy()\n",
        "X_log=logarithmize_v(X_copy2)\n",
        "\n",
        "max_k = 25\n",
        "scores = test_cluster_size(X_log, max_k)\n",
        "\n",
        "plt.plot(range(max_k-1), scores, label='distortion')\n",
        "plt.legend(bbox_to_anchor=(1.05, 1), loc='upper left', borderaxespad=0.)\n",
        "plt.title('K-Means Min-Max Scaled Distortion with K ranging from 2-25')\n",
        "plt.ylabel('Distortion')\n",
        "plt.xlabel('K Value')\n",
        "plt.xticks(range(max_k-1), range(2,max_k+1))\n",
        "plt.show()"
      ],
      "execution_count": 23,
      "outputs": [
        {
          "output_type": "display_data",
          "data": {
            "image/png": "[encoded data removed]",
            "text/plain": [
              "<Figure size 432x288 with 1 Axes>"
            ]
          },
          "metadata": {
            "tags": []
          }
        }
      ]
    },
    {
      "cell_type": "markdown",
      "metadata": {
        "id": "Sf63DZffgAIn",
        "colab_type": "text"
      },
      "source": [
        "### 4.4 The Variance Ratio Criterion"
      ]
    },
    {
      "cell_type": "markdown",
      "metadata": {
        "id": "8TsGeMkxgAIo",
        "colab_type": "text"
      },
      "source": [
        "Another distortion metric called the Variance Ratio Criterion (VRC) is given by\n",
        "$$ VRC(K) = \\frac{SS_B}{k-1} / \\frac{SS_W}{N-k}$$\n",
        "where SS<sub>B</sub> is the sum of squared distance between the cluster centers and the overall sample mean (calculated per data point), *k* is the number of clusters, SS<sub>W</sub> is the sum of square distance between data points and their assigned cluster centers, and N is the number of data points.\n",
        "\n",
        "Write the function **test_vrc** that computes the VRC on clusterings of size 2 up to size max_k. Note that SS<sub>W</sub> is the distortion metric."
      ]
    },
    {
      "cell_type": "code",
      "metadata": {
        "id": "CYNOIhwKgAIo",
        "colab_type": "code",
        "colab": {}
      },
      "source": [
        "def test_vrc(X, max_k):\n",
        "    \"\"\"\n",
        "    INPUT:\n",
        "      X - m by n matrix, where m is the number of training points\n",
        "      max_k - the maximum number of clusters to consider\n",
        "    \n",
        "    OUTPUT:\n",
        "      scores - a list of scores, where score[i] is VRC(i) \n",
        "    \"\"\"\n",
        "    scores = [0] * (max_k-1)\n",
        "    overall_mean=np.mean(X,axis=0)\n",
        "    \n",
        "    # TODO 4.4 your code here\n",
        "    X_ary = np.asarray(X).astype(float)\n",
        "    X_mean_arg = np.average(X_ary, axis=0)\n",
        "    num_data = X_ary.shape[0]\n",
        "    # print('X.shape', X.shape)\n",
        "    # print('X_mean_arg.shape', X_mean_arg.shape)\n",
        "\n",
        "    for k in range(2, max_k+1):\n",
        "        (clusters, centroids, iters) = kmeans(X,k)\n",
        "\n",
        "        \n",
        "        clusters_ary = np.asarray(clusters).astype(float)\n",
        "        centroids_ary = np.asarray(centroids).astype(float)\n",
        "        \n",
        "        # print('clusters_ary.shape', clusters_ary.shape)\n",
        "        # print('centroids_ary.shape', centroids_ary.shape)\n",
        "        \n",
        "        SSB = 0\n",
        "        SSW = 0\n",
        "        \n",
        "        for i in range(k):\n",
        "            idx_class = np.argwhere(clusters_ary==i).squeeze()\n",
        "            X_inclass = X_ary[idx_class]\n",
        "            # print('idx_class.shape', idx_class.shape)\n",
        "            # print('X_inclass.shape', X_inclass.shape)\n",
        "            # distortion_i = np.sum(np.linalg.norm(X_inclass-centroids_ary[i], ord=2, axis=1)**2)\n",
        "\n",
        "            SSB_i = np.sum(np.linalg.norm(centroids_ary[i]-X_mean_arg, ord=2, axis=0)**2)\n",
        "            SSB += SSB_i\n",
        "            SSW_i = np.sum(np.linalg.norm(X_inclass-centroids_ary[i], ord=2, axis=1)**2)\n",
        "            SSW += SSW_i\n",
        "\n",
        "            # print('distortion_i', distortion_i)\n",
        "            # distortion += distortion_i\n",
        "\n",
        "        # print('k', k, 'distortion', distortion)\n",
        "\n",
        "        VRC = (SSB*(num_data-k)) / (SSW*(k-1))\n",
        "        scores[k-2] = VRC\n",
        "\n",
        "    return scores"
      ],
      "execution_count": 0,
      "outputs": []
    },
    {
      "cell_type": "markdown",
      "metadata": {
        "id": "516sXOtvgAIq",
        "colab_type": "text"
      },
      "source": [
        "#### 4.4.1 VRC Plot\n",
        "Using the original version of your data, (**so not the scaled or log**), run the code below to plot VRC(k) as *k* increases from (2 to 25). Record your graph in your writeup along with the value of K you would choose. For the VRC plot, you no longer looking for an elbow, but instead looking for the **first local maximum.** "
      ]
    },
    {
      "cell_type": "code",
      "metadata": {
        "id": "tFibkA8YgAIq",
        "colab_type": "code",
        "outputId": "325a8309-c129-4a06-8fa4-ce4cdd51b189",
        "colab": {
          "base_uri": "https://localhost:8080/",
          "height": 295
        }
      },
      "source": [
        "max_k = 25\n",
        "\n",
        "scores = test_vrc(X, max_k)\n",
        "\n",
        "plt.plot(range(max_k-1), scores, label='VRC(k)')\n",
        "plt.legend(bbox_to_anchor=(1.05, 1), loc='upper left', borderaxespad=0.)\n",
        "plt.title('VRC values from K ranging from 2-25')\n",
        "plt.ylabel('VRC(k)')\n",
        "plt.xlabel('K Value')\n",
        "plt.xticks(range(max_k-1), range(2,max_k+1))\n",
        "plt.show()"
      ],
      "execution_count": 25,
      "outputs": [
        {
          "output_type": "display_data",
          "data": {
            "image/png": "[encoded data removed]",
            "text/plain": [
              "<Figure size 432x288 with 1 Axes>"
            ]
          },
          "metadata": {
            "tags": []
          }
        }
      ]
    },
    {
      "cell_type": "markdown",
      "metadata": {
        "id": "fEUP6xwn3yag",
        "colab_type": "text"
      },
      "source": [
        "\n",
        "# Turning it in\n",
        "\n",
        "**This notebook will not be autograded, so no need to comment out code outside of functions.**\n",
        "\n",
        "1. Download this notebook as a `hw6.py` file with the functions implemented and the sandbox code commented out\n",
        "  - go to \"File -> Download .py\"\n",
        "  \n",
        "2. Submit `hw6.py` file to Gradescope (you can do this as many times as you'd like before the deadline)"
      ]
    }
  ]
}